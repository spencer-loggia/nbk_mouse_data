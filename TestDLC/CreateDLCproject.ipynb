{
 "cells": [
  {
   "cell_type": "code",
   "execution_count": 1,
   "metadata": {},
   "outputs": [],
   "source": [
    "import deeplabcut\n",
    "import os\n",
    "task = 'BatGPU1'\n",
    "experimenter = 'spencer loggia'"
   ]
  },
  {
   "cell_type": "code",
   "execution_count": 2,
   "metadata": {},
   "outputs": [
    {
     "name": "stdout",
     "output_type": "stream",
     "text": [
      "0\n",
      "1\n",
      "2\n",
      "3\n",
      "['F:\\\\MysoreData\\\\nbk\\\\cam7\\\\raw_video_small\\\\c_13817_391.avi', 'F:\\\\MysoreData\\\\nbk\\\\cam7\\\\raw_video_small\\\\c_13817_392.avi', 'F:\\\\MysoreData\\\\nbk\\\\cam7\\\\raw_video_small\\\\c_13817_393.avi', 'F:\\\\MysoreData\\\\nbk\\\\cam7\\\\raw_video_small\\\\c_13817_394.avi']\n"
     ]
    }
   ],
   "source": [
    "video = os.listdir(r'F:\\MysoreData\\nbk\\cam7\\raw_video_small')\n",
    "for i in range(0,len(video)):\n",
    "    video[i] = 'F:\\\\MysoreData\\\\nbk\\\\cam7\\\\raw_video_small\\\\'+video[i]\n",
    "    print(i)\n",
    "    \n",
    "num_videos = len(video)\n",
    "print(video)"
   ]
  },
  {
   "cell_type": "code",
   "execution_count": 3,
   "metadata": {},
   "outputs": [
    {
     "name": "stdout",
     "output_type": "stream",
     "text": [
      "Created \"F:\\MysoreData\\nbk\\TestDLC\\BatGPU1-spencer loggia-2019-08-29\\videos\"\n",
      "Created \"F:\\MysoreData\\nbk\\TestDLC\\BatGPU1-spencer loggia-2019-08-29\\labeled-data\"\n",
      "Created \"F:\\MysoreData\\nbk\\TestDLC\\BatGPU1-spencer loggia-2019-08-29\\training-datasets\"\n",
      "Created \"F:\\MysoreData\\nbk\\TestDLC\\BatGPU1-spencer loggia-2019-08-29\\dlc-models\"\n",
      "Copying the videos\n",
      "F:\\MysoreData\\nbk\\TestDLC\\BatGPU1-spencer loggia-2019-08-29\\videos\\c_13817_391.avi\n",
      "F:\\MysoreData\\nbk\\TestDLC\\BatGPU1-spencer loggia-2019-08-29\\videos\\c_13817_392.avi\n",
      "F:\\MysoreData\\nbk\\TestDLC\\BatGPU1-spencer loggia-2019-08-29\\videos\\c_13817_393.avi\n",
      "F:\\MysoreData\\nbk\\TestDLC\\BatGPU1-spencer loggia-2019-08-29\\videos\\c_13817_394.avi\n",
      "Generated \"F:\\MysoreData\\nbk\\TestDLC\\BatGPU1-spencer loggia-2019-08-29\\config.yaml\"\n",
      "\n",
      "A new project with name BatGPU1-spencer loggia-2019-08-29 is created at F:\\MysoreData\\nbk\\TestDLC and a configurable file (config.yaml) is stored there. Change the parameters in this file to adapt to your project's needs.\n",
      " Once you have changed the configuration file, use the function 'extract_frames' to select frames for labeling.\n",
      ". [OPTIONAL] Use the function 'add_new_videos' to add new videos to your project (at any stage).\n",
      "F:\\MysoreData\\nbk\\TestDLC\\BatGPU1-spencer loggia-2019-08-29\\config.yaml\n"
     ]
    }
   ],
   "source": [
    "path_config_file=deeplabcut.create_new_project(task,experimenter,video, working_directory='.\\\\', copy_videos=True)\n",
    "print(path_config_file)"
   ]
  },
  {
   "cell_type": "markdown",
   "metadata": {},
   "source": [
    "At this point take a moment to edit the config.yaml file in the new project directory. THe num2pick variable can be set to change number labeled frames per video. Also edit batch_size to change number of labelled images in each set. "
   ]
  },
  {
   "cell_type": "code",
   "execution_count": 4,
   "metadata": {},
   "outputs": [
    {
     "name": "stdout",
     "output_type": "stream",
     "text": [
      "Config file read successfully.\n",
      "Do you want to extract (perhaps additional) frames for video: F:\\MysoreData\\nbk\\TestDLC\\BatGPU1-spencer loggia-2019-08-29\\videos\\c_13817_391.avi ?\n",
      "yes/noyes\n",
      "Extracting frames based on uniform ...\n",
      "Uniformly extracting of frames from 0.0  seconds to 110.05  seconds.\n",
      "Do you want to extract (perhaps additional) frames for video: F:\\MysoreData\\nbk\\TestDLC\\BatGPU1-spencer loggia-2019-08-29\\videos\\c_13817_392.avi ?\n",
      "yes/noyes\n",
      "Extracting frames based on uniform ...\n",
      "Uniformly extracting of frames from 0.0  seconds to 110.05  seconds.\n",
      "Do you want to extract (perhaps additional) frames for video: F:\\MysoreData\\nbk\\TestDLC\\BatGPU1-spencer loggia-2019-08-29\\videos\\c_13817_393.avi ?\n",
      "yes/noyes\n",
      "Extracting frames based on uniform ...\n",
      "Uniformly extracting of frames from 0.0  seconds to 110.05  seconds.\n",
      "Do you want to extract (perhaps additional) frames for video: F:\\MysoreData\\nbk\\TestDLC\\BatGPU1-spencer loggia-2019-08-29\\videos\\c_13817_394.avi ?\n",
      "yes/noyes\n",
      "Extracting frames based on uniform ...\n",
      "Uniformly extracting of frames from 0.0  seconds to 110.05  seconds.\n",
      "Frame 2200  not found!\n",
      "\n",
      "Frames were selected.\n",
      "You can now label the frames using the function 'label_frames' (if you extracted enough frames for all videos).\n"
     ]
    },
    {
     "data": {
      "image/png": "[encoded data removed]",
      "text/plain": [
       "<Figure size 432x288 with 1 Axes>"
      ]
     },
     "metadata": {
      "needs_background": "light"
     },
     "output_type": "display_data"
    },
    {
     "data": {
      "image/png": "[encoded data removed]",
      "text/plain": [
       "<Figure size 432x288 with 1 Axes>"
      ]
     },
     "metadata": {
      "needs_background": "light"
     },
     "output_type": "display_data"
    },
    {
     "data": {
      "image/png": "[encoded data removed]",
      "text/plain": [
       "<Figure size 432x288 with 1 Axes>"
      ]
     },
     "metadata": {
      "needs_background": "light"
     },
     "output_type": "display_data"
    },
    {
     "data": {
      "image/png": "[encoded data removed]",
      "text/plain": [
       "<Figure size 432x288 with 1 Axes>"
      ]
     },
     "metadata": {
      "needs_background": "light"
     },
     "output_type": "display_data"
    }
   ],
   "source": [
    "#load matplotlib so outputs can be displayed \n",
    "%matplotlib inline \n",
    "\n",
    "deeplabcut.extract_frames(path_config_file,'automatic','uniform',crop=True)"
   ]
  },
  {
   "cell_type": "code",
   "execution_count": 5,
   "metadata": {},
   "outputs": [
    {
     "ename": "RuntimeError",
     "evalue": "wrapped C/C++ object of type DirDialog has been deleted",
     "output_type": "error",
     "traceback": [
      "\u001b[1;31m---------------------------------------------------------------------------\u001b[0m",
      "\u001b[1;31mRuntimeError\u001b[0m                              Traceback (most recent call last)",
      "\u001b[1;32mc:\\users\\pbs-mysorelab\\.conda\\envs\\nbk1\\lib\\site-packages\\deeplabcut\\generate_training_dataset\\labeling_toolbox.py\u001b[0m in \u001b[0;36mquitButton\u001b[1;34m(self, event)\u001b[0m\n\u001b[0;32m    300\u001b[0m             \u001b[0mself\u001b[0m\u001b[1;33m.\u001b[0m\u001b[0mchoiceBox\u001b[0m\u001b[1;33m.\u001b[0m\u001b[0mClear\u001b[0m\u001b[1;33m(\u001b[0m\u001b[1;32mTrue\u001b[0m\u001b[1;33m)\u001b[0m\u001b[1;33m\u001b[0m\u001b[1;33m\u001b[0m\u001b[0m\n\u001b[0;32m    301\u001b[0m             \u001b[0mMainFrame\u001b[0m\u001b[1;33m.\u001b[0m\u001b[0mupdateZoomPan\u001b[0m\u001b[1;33m(\u001b[0m\u001b[0mself\u001b[0m\u001b[1;33m)\u001b[0m\u001b[1;33m\u001b[0m\u001b[1;33m\u001b[0m\u001b[0m\n\u001b[1;32m--> 302\u001b[1;33m             \u001b[0mMainFrame\u001b[0m\u001b[1;33m.\u001b[0m\u001b[0mbrowseDir\u001b[0m\u001b[1;33m(\u001b[0m\u001b[0mself\u001b[0m\u001b[1;33m,\u001b[0m \u001b[0mevent\u001b[0m\u001b[1;33m)\u001b[0m\u001b[1;33m\u001b[0m\u001b[1;33m\u001b[0m\u001b[0m\n\u001b[0m\u001b[0;32m    303\u001b[0m             \u001b[0mself\u001b[0m\u001b[1;33m.\u001b[0m\u001b[0msave\u001b[0m\u001b[1;33m.\u001b[0m\u001b[0mEnable\u001b[0m\u001b[1;33m(\u001b[0m\u001b[1;32mTrue\u001b[0m\u001b[1;33m)\u001b[0m\u001b[1;33m\u001b[0m\u001b[1;33m\u001b[0m\u001b[0m\n\u001b[0;32m    304\u001b[0m         \u001b[1;32melse\u001b[0m\u001b[1;33m:\u001b[0m\u001b[1;33m\u001b[0m\u001b[1;33m\u001b[0m\u001b[0m\n",
      "\u001b[1;32mc:\\users\\pbs-mysorelab\\.conda\\envs\\nbk1\\lib\\site-packages\\deeplabcut\\generate_training_dataset\\labeling_toolbox.py\u001b[0m in \u001b[0;36mbrowseDir\u001b[1;34m(self, event)\u001b[0m\n\u001b[0;32m    417\u001b[0m             \u001b[0mdlg\u001b[0m\u001b[1;33m.\u001b[0m\u001b[0mDestroy\u001b[0m\u001b[1;33m(\u001b[0m\u001b[1;33m)\u001b[0m\u001b[1;33m\u001b[0m\u001b[1;33m\u001b[0m\u001b[0m\n\u001b[0;32m    418\u001b[0m             \u001b[0mself\u001b[0m\u001b[1;33m.\u001b[0m\u001b[0mClose\u001b[0m\u001b[1;33m(\u001b[0m\u001b[1;32mTrue\u001b[0m\u001b[1;33m)\u001b[0m\u001b[1;33m\u001b[0m\u001b[1;33m\u001b[0m\u001b[0m\n\u001b[1;32m--> 419\u001b[1;33m         \u001b[0mdlg\u001b[0m\u001b[1;33m.\u001b[0m\u001b[0mDestroy\u001b[0m\u001b[1;33m(\u001b[0m\u001b[1;33m)\u001b[0m\u001b[1;33m\u001b[0m\u001b[1;33m\u001b[0m\u001b[0m\n\u001b[0m\u001b[0;32m    420\u001b[0m \u001b[1;33m\u001b[0m\u001b[0m\n\u001b[0;32m    421\u001b[0m \u001b[1;31m# Enabling the zoom, pan and home buttons\u001b[0m\u001b[1;33m\u001b[0m\u001b[1;33m\u001b[0m\u001b[1;33m\u001b[0m\u001b[0m\n",
      "\u001b[1;31mRuntimeError\u001b[0m: wrapped C/C++ object of type DirDialog has been deleted"
     ]
    }
   ],
   "source": [
    "%gui wx\n",
    "%matplotlib inline \n",
    "deeplabcut.label_frames(path_config_file)"
   ]
  },
  {
   "cell_type": "code",
   "execution_count": 6,
   "metadata": {},
   "outputs": [
    {
     "name": "stdout",
     "output_type": "stream",
     "text": [
      "Creating images with labels by spencer loggia.\n",
      "They are stored in the following folder: F:\\MysoreData\\nbk\\TestDLC\\BatGPU1-spencer loggia-2019-08-29\\labeled-data\\c_13817_391_labeled.\n",
      "They are stored in the following folder: F:\\MysoreData\\nbk\\TestDLC\\BatGPU1-spencer loggia-2019-08-29\\labeled-data\\c_13817_392_labeled.\n",
      "They are stored in the following folder: F:\\MysoreData\\nbk\\TestDLC\\BatGPU1-spencer loggia-2019-08-29\\labeled-data\\c_13817_393_labeled.\n",
      "They are stored in the following folder: F:\\MysoreData\\nbk\\TestDLC\\BatGPU1-spencer loggia-2019-08-29\\labeled-data\\c_13817_394_labeled.\n",
      "If all the labels are ok, then use the function 'create_training_dataset' to create the training dataset!\n"
     ]
    }
   ],
   "source": [
    "deeplabcut.check_labels(path_config_file) #this creates a subdirectory with the frames + your labels"
   ]
  },
  {
   "cell_type": "code",
   "execution_count": null,
   "metadata": {},
   "outputs": [],
   "source": []
  }
 ],
 "metadata": {
  "kernelspec": {
   "display_name": "Python 3",
   "language": "python",
   "name": "python3"
  },
  "language_info": {
   "codemirror_mode": {
    "name": "ipython",
    "version": 3
   },
   "file_extension": ".py",
   "mimetype": "text/x-python",
   "name": "python",
   "nbconvert_exporter": "python",
   "pygments_lexer": "ipython3",
   "version": "3.6.9"
  }
 },
 "nbformat": 4,
 "nbformat_minor": 2
}
