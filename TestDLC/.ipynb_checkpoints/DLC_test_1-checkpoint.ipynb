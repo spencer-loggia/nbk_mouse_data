{
 "cells": [
  {
   "cell_type": "markdown",
   "metadata": {},
   "source": [
    "Import Deeplab cut and header data\n",
    "**MAKE SURE YOU'RE RUNNING IN THE NBK1 CONDA ENVIROMENT OR ANOTHER ENVIROMENT WITH ALL DEPENDENCIES**"
   ]
  },
  {
   "cell_type": "code",
   "execution_count": 1,
   "metadata": {
    "scrolled": true
   },
   "outputs": [],
   "source": [
    "import deeplabcut\n",
    "import os\n",
    "task = 'bat tracking test2'\n",
    "experimenter = 'spencer loggia'"
   ]
  },
  {
   "cell_type": "markdown",
   "metadata": {},
   "source": [
    "Define video files to be used "
   ]
  },
  {
   "cell_type": "code",
   "execution_count": 4,
   "metadata": {
    "scrolled": true
   },
   "outputs": [
    {
     "name": "stdout",
     "output_type": "stream",
     "text": [
      "0\n",
      "1\n",
      "2\n",
      "3\n",
      "['F:\\\\MysoreData\\\\nbk\\\\cam7\\\\raw_video_small\\\\c_13817_391.avi', 'F:\\\\MysoreData\\\\nbk\\\\cam7\\\\raw_video_small\\\\c_13817_392.avi', 'F:\\\\MysoreData\\\\nbk\\\\cam7\\\\raw_video_small\\\\c_13817_393.avi', 'F:\\\\MysoreData\\\\nbk\\\\cam7\\\\raw_video_small\\\\c_13817_394.avi']\n"
     ]
    }
   ],
   "source": [
    "video = os.listdir(r'F:\\MysoreData\\nbk\\cam7\\raw_video_small')\n",
    "for i in range(0,len(video)):\n",
    "    video[i] = 'F:\\\\MysoreData\\\\nbk\\\\cam7\\\\raw_video_small\\\\'+video[i]\n",
    "    print(i)\n",
    "    \n",
    "num_videos = len(video)\n",
    "print(video)"
   ]
  },
  {
   "cell_type": "markdown",
   "metadata": {},
   "source": [
    "Create Deep Lab Cut Project For These Videos"
   ]
  },
  {
   "cell_type": "code",
   "execution_count": 8,
   "metadata": {
    "scrolled": true
   },
   "outputs": [
    {
     "name": "stdout",
     "output_type": "stream",
     "text": [
      "Created \"F:\\MysoreData\\nbk\\TestDLC\\bat tracking test2-spencer loggia-2019-08-26\\videos\"\n",
      "Created \"F:\\MysoreData\\nbk\\TestDLC\\bat tracking test2-spencer loggia-2019-08-26\\labeled-data\"\n",
      "Created \"F:\\MysoreData\\nbk\\TestDLC\\bat tracking test2-spencer loggia-2019-08-26\\training-datasets\"\n",
      "Created \"F:\\MysoreData\\nbk\\TestDLC\\bat tracking test2-spencer loggia-2019-08-26\\dlc-models\"\n",
      "Copying the videos\n",
      "F:\\MysoreData\\nbk\\TestDLC\\bat tracking test2-spencer loggia-2019-08-26\\videos\\c_13817_391.avi\n",
      "F:\\MysoreData\\nbk\\TestDLC\\bat tracking test2-spencer loggia-2019-08-26\\videos\\c_13817_392.avi\n",
      "F:\\MysoreData\\nbk\\TestDLC\\bat tracking test2-spencer loggia-2019-08-26\\videos\\c_13817_393.avi\n",
      "F:\\MysoreData\\nbk\\TestDLC\\bat tracking test2-spencer loggia-2019-08-26\\videos\\c_13817_394.avi\n",
      "Generated \"F:\\MysoreData\\nbk\\TestDLC\\bat tracking test2-spencer loggia-2019-08-26\\config.yaml\"\n",
      "\n",
      "A new project with name bat tracking test2-spencer loggia-2019-08-26 is created at F:\\MysoreData\\nbk\\TestDLC and a configurable file (config.yaml) is stored there. Change the parameters in this file to adapt to your project's needs.\n",
      " Once you have changed the configuration file, use the function 'extract_frames' to select frames for labeling.\n",
      ". [OPTIONAL] Use the function 'add_new_videos' to add new videos to your project (at any stage).\n",
      "F:\\MysoreData\\nbk\\TestDLC\\bat tracking test2-spencer loggia-2019-08-26\\config.yaml\n"
     ]
    }
   ],
   "source": [
    "path_config_file=deeplabcut.create_new_project(task,experimenter,video, working_directory='.\\\\', copy_videos=True)\n",
    "print(path_config_file)"
   ]
  },
  {
   "cell_type": "markdown",
   "metadata": {},
   "source": [
    "Crop videos and extract frames\n"
   ]
  },
  {
   "cell_type": "code",
   "execution_count": 9,
   "metadata": {},
   "outputs": [
    {
     "name": "stdout",
     "output_type": "stream",
     "text": [
      "Config file read successfully.\n",
      "Do you want to extract (perhaps additional) frames for video: F:\\MysoreData\\nbk\\TestDLC\\bat tracking test2-spencer loggia-2019-08-26\\videos\\c_13817_391.avi ?\n",
      "yes/noyes\n",
      "Extracting frames based on uniform ...\n",
      "Uniformly extracting of frames from 0.0  seconds to 110.05  seconds.\n",
      "Do you want to extract (perhaps additional) frames for video: F:\\MysoreData\\nbk\\TestDLC\\bat tracking test2-spencer loggia-2019-08-26\\videos\\c_13817_392.avi ?\n",
      "yes/noyes\n",
      "Extracting frames based on uniform ...\n",
      "Uniformly extracting of frames from 0.0  seconds to 110.05  seconds.\n",
      "Do you want to extract (perhaps additional) frames for video: F:\\MysoreData\\nbk\\TestDLC\\bat tracking test2-spencer loggia-2019-08-26\\videos\\c_13817_393.avi ?\n",
      "yes/noyes\n",
      "Extracting frames based on uniform ...\n",
      "Uniformly extracting of frames from 0.0  seconds to 110.05  seconds.\n",
      "Do you want to extract (perhaps additional) frames for video: F:\\MysoreData\\nbk\\TestDLC\\bat tracking test2-spencer loggia-2019-08-26\\videos\\c_13817_394.avi ?\n",
      "yes/noyes\n",
      "Extracting frames based on uniform ...\n",
      "Uniformly extracting of frames from 0.0  seconds to 110.05  seconds.\n",
      "\n",
      "Frames were selected.\n",
      "You can now label the frames using the function 'label_frames' (if you extracted enough frames for all videos).\n"
     ]
    },
    {
     "data": {
      "image/png": "[encoded data removed]",
      "text/plain": [
       "<Figure size 432x288 with 1 Axes>"
      ]
     },
     "metadata": {
      "needs_background": "light"
     },
     "output_type": "display_data"
    },
    {
     "data": {
      "image/png": "[encoded data removed]",
      "text/plain": [
       "<Figure size 432x288 with 1 Axes>"
      ]
     },
     "metadata": {
      "needs_background": "light"
     },
     "output_type": "display_data"
    },
    {
     "data": {
      "image/png": "[encoded data removed]",
      "text/plain": [
       "<Figure size 432x288 with 1 Axes>"
      ]
     },
     "metadata": {
      "needs_background": "light"
     },
     "output_type": "display_data"
    },
    {
     "data": {
      "image/png": "[encoded data removed]",
      "text/plain": [
       "<Figure size 432x288 with 1 Axes>"
      ]
     },
     "metadata": {
      "needs_background": "light"
     },
     "output_type": "display_data"
    }
   ],
   "source": [
    "#load matplotlib so outputs can be displayed \n",
    "%matplotlib inline \n",
    "\n",
    "deeplabcut.extract_frames(path_config_file,'automatic','uniform',crop=True)"
   ]
  },
  {
   "cell_type": "code",
   "execution_count": null,
   "metadata": {},
   "outputs": [],
   "source": [
    "Use the below to jump into current project"
   ]
  },
  {
   "cell_type": "code",
   "execution_count": 2,
   "metadata": {
    "scrolled": true
   },
   "outputs": [],
   "source": [
    "path_config_file='bat tracking test2-spencer loggia-2019-08-26\\\\config.yaml'"
   ]
  },
  {
   "cell_type": "markdown",
   "metadata": {},
   "source": [
    "Label the frames that were selected"
   ]
  },
  {
   "cell_type": "code",
   "execution_count": 10,
   "metadata": {
    "scrolled": true
   },
   "outputs": [
    {
     "name": "stdout",
     "output_type": "stream",
     "text": [
      "You can now check the labels, using 'check_labels' before proceeding. Then, you can use the function 'create_training_dataset' to create the training dataset.\n"
     ]
    }
   ],
   "source": [
    "%gui wx\n",
    "%matplotlib inline \n",
    "deeplabcut.label_frames(path_config_file)"
   ]
  },
  {
   "cell_type": "code",
   "execution_count": 11,
   "metadata": {
    "scrolled": true
   },
   "outputs": [
    {
     "name": "stdout",
     "output_type": "stream",
     "text": [
      "Creating images with labels by spencer loggia.\n",
      "They are stored in the following folder: F:\\MysoreData\\nbk\\TestDLC\\bat tracking test2-spencer loggia-2019-08-26\\labeled-data\\c_13817_391_labeled.\n",
      "They are stored in the following folder: F:\\MysoreData\\nbk\\TestDLC\\bat tracking test2-spencer loggia-2019-08-26\\labeled-data\\c_13817_392_labeled.\n",
      "They are stored in the following folder: F:\\MysoreData\\nbk\\TestDLC\\bat tracking test2-spencer loggia-2019-08-26\\labeled-data\\c_13817_393_labeled.\n",
      "They are stored in the following folder: F:\\MysoreData\\nbk\\TestDLC\\bat tracking test2-spencer loggia-2019-08-26\\labeled-data\\c_13817_394_labeled.\n",
      "If all the labels are ok, then use the function 'create_training_dataset' to create the training dataset!\n"
     ]
    }
   ],
   "source": [
    "deeplabcut.check_labels(path_config_file) #this creates a subdirectory with the frames + your labels"
   ]
  },
  {
   "cell_type": "markdown",
   "metadata": {},
   "source": [
    "CREATE TRAINING DATA "
   ]
  },
  {
   "cell_type": "code",
   "execution_count": 12,
   "metadata": {},
   "outputs": [
    {
     "name": "stdout",
     "output_type": "stream",
     "text": [
      "Downloading a ImageNet-pretrained model from http://download.tensorflow.org/models/resnet_v1_50_2016_08_28.tar.gz....\n",
      "The training dataset is successfully created. Use the function 'train_network' to start training. Happy training!\n"
     ]
    }
   ],
   "source": [
    "deeplabcut.create_training_dataset(path_config_file)"
   ]
  },
  {
   "cell_type": "code",
   "execution_count": 13,
   "metadata": {
    "scrolled": true
   },
   "outputs": [
    {
     "name": "stderr",
     "output_type": "stream",
     "text": [
      "Config:\n",
      "{'all_joints': [[0], [1], [2], [3]],\n",
      " 'all_joints_names': ['bodypart1', 'bodypart2', 'bodypart3', 'objectA'],\n",
      " 'batch_size': 1,\n",
      " 'bottomheight': 400,\n",
      " 'crop': True,\n",
      " 'crop_pad': 0,\n",
      " 'cropratio': 0.4,\n",
      " 'dataset': 'training-datasets\\\\iteration-0\\\\UnaugmentedDataSet_bat tracking '\n",
      "            'test2Aug26\\\\bat tracking test2_spencer loggia95shuffle1.mat',\n",
      " 'dataset_type': 'default',\n",
      " 'deterministic': False,\n",
      " 'display_iters': 1000,\n",
      " 'fg_fraction': 0.25,\n",
      " 'global_scale': 0.8,\n",
      " 'init_weights': 'c:\\\\users\\\\pbs-mysorelab\\\\.conda\\\\envs\\\\nbk1\\\\lib\\\\site-packages\\\\deeplabcut\\\\pose_estimation_tensorflow\\\\models\\\\pretrained\\\\resnet_v1_50.ckpt',\n",
      " 'intermediate_supervision': False,\n",
      " 'intermediate_supervision_layer': 12,\n",
      " 'leftwidth': 400,\n",
      " 'location_refinement': True,\n",
      " 'locref_huber_loss': True,\n",
      " 'locref_loss_weight': 0.05,\n",
      " 'locref_stdev': 7.2801,\n",
      " 'log_dir': 'log',\n",
      " 'max_input_size': 1500,\n",
      " 'mean_pixel': [123.68, 116.779, 103.939],\n",
      " 'metadataset': 'training-datasets\\\\iteration-0\\\\UnaugmentedDataSet_bat '\n",
      "                'tracking test2Aug26\\\\Documentation_data-bat tracking '\n",
      "                'test2_95shuffle1.pickle',\n",
      " 'min_input_size': 64,\n",
      " 'minsize': 100,\n",
      " 'mirror': False,\n",
      " 'multi_step': [[0.005, 10000],\n",
      "                [0.02, 430000],\n",
      "                [0.002, 730000],\n",
      "                [0.001, 1030000]],\n",
      " 'net_type': 'resnet_50',\n",
      " 'num_joints': 4,\n",
      " 'optimizer': 'sgd',\n",
      " 'pos_dist_thresh': 17,\n",
      " 'project_path': 'F:\\\\MysoreData\\\\nbk\\\\TestDLC\\\\bat tracking test2-spencer '\n",
      "                 'loggia-2019-08-26',\n",
      " 'regularize': False,\n",
      " 'rightwidth': 400,\n",
      " 'save_iters': 50000,\n",
      " 'scale_jitter_lo': 0.5,\n",
      " 'scale_jitter_up': 1.25,\n",
      " 'scoremap_dir': 'test',\n",
      " 'shuffle': True,\n",
      " 'snapshot_prefix': 'F:\\\\MysoreData\\\\nbk\\\\TestDLC\\\\bat tracking test2-spencer '\n",
      "                    'loggia-2019-08-26\\\\dlc-models\\\\iteration-0\\\\bat tracking '\n",
      "                    'test2Aug26-trainset95shuffle1\\\\train\\\\snapshot',\n",
      " 'stride': 8.0,\n",
      " 'topheight': 400,\n",
      " 'weigh_negatives': False,\n",
      " 'weigh_only_present_joints': False,\n",
      " 'weigh_part_predictions': False,\n",
      " 'weight_decay': 0.0001}\n"
     ]
    },
    {
     "name": "stdout",
     "output_type": "stream",
     "text": [
      "Starting with standard pose-dataset loader.\n",
      "WARNING:tensorflow:From c:\\users\\pbs-mysorelab\\.conda\\envs\\nbk1\\lib\\site-packages\\deeplabcut\\pose_estimation_tensorflow\\nnet\\pose_net.py:61: calling resnet_arg_scope (from tensorflow.contrib.slim.python.slim.nets.resnet_utils) with is_training is deprecated and will be removed after 2017-08-01.\n",
      "Instructions for updating:\n",
      "Pass is_training directly to the network instead of the arg_scope.\n",
      "INFO:tensorflow:logits.dtype=<dtype: 'float32'>.\n",
      "INFO:tensorflow:multi_class_labels.dtype=<dtype: 'float32'>.\n",
      "INFO:tensorflow:losses.dtype=<dtype: 'float32'>.\n",
      "INFO:tensorflow:Restoring parameters from c:\\users\\pbs-mysorelab\\.conda\\envs\\nbk1\\lib\\site-packages\\deeplabcut\\pose_estimation_tensorflow\\models\\pretrained\\resnet_v1_50.ckpt\n",
      "Training parameter:\n",
      "{'stride': 8.0, 'weigh_part_predictions': False, 'weigh_negatives': False, 'fg_fraction': 0.25, 'weigh_only_present_joints': False, 'mean_pixel': [123.68, 116.779, 103.939], 'shuffle': True, 'snapshot_prefix': 'F:\\\\MysoreData\\\\nbk\\\\TestDLC\\\\bat tracking test2-spencer loggia-2019-08-26\\\\dlc-models\\\\iteration-0\\\\bat tracking test2Aug26-trainset95shuffle1\\\\train\\\\snapshot', 'log_dir': 'log', 'global_scale': 0.8, 'location_refinement': True, 'locref_stdev': 7.2801, 'locref_loss_weight': 0.05, 'locref_huber_loss': True, 'optimizer': 'sgd', 'intermediate_supervision': False, 'intermediate_supervision_layer': 12, 'regularize': False, 'weight_decay': 0.0001, 'mirror': False, 'crop_pad': 0, 'scoremap_dir': 'test', 'batch_size': 1, 'dataset_type': 'default', 'deterministic': False, 'crop': True, 'cropratio': 0.4, 'minsize': 100, 'leftwidth': 400, 'rightwidth': 400, 'topheight': 400, 'bottomheight': 400, 'all_joints': [[0], [1], [2], [3]], 'all_joints_names': ['bodypart1', 'bodypart2', 'bodypart3', 'objectA'], 'dataset': 'training-datasets\\\\iteration-0\\\\UnaugmentedDataSet_bat tracking test2Aug26\\\\bat tracking test2_spencer loggia95shuffle1.mat', 'display_iters': 1000, 'init_weights': 'c:\\\\users\\\\pbs-mysorelab\\\\.conda\\\\envs\\\\nbk1\\\\lib\\\\site-packages\\\\deeplabcut\\\\pose_estimation_tensorflow\\\\models\\\\pretrained\\\\resnet_v1_50.ckpt', 'max_input_size': 1500, 'metadataset': 'training-datasets\\\\iteration-0\\\\UnaugmentedDataSet_bat tracking test2Aug26\\\\Documentation_data-bat tracking test2_95shuffle1.pickle', 'min_input_size': 64, 'multi_step': [[0.005, 10000], [0.02, 430000], [0.002, 730000], [0.001, 1030000]], 'net_type': 'resnet_50', 'num_joints': 4, 'pos_dist_thresh': 17, 'project_path': 'F:\\\\MysoreData\\\\nbk\\\\TestDLC\\\\bat tracking test2-spencer loggia-2019-08-26', 'save_iters': 50000, 'scale_jitter_lo': 0.5, 'scale_jitter_up': 1.25}\n",
      "Starting training....\n"
     ]
    },
    {
     "name": "stderr",
     "output_type": "stream",
     "text": [
      "iteration: 1000 loss: 0.0219 lr: 0.005\n",
      "iteration: 2000 loss: 0.0079 lr: 0.005\n",
      "iteration: 3000 loss: 0.0052 lr: 0.005\n",
      "iteration: 4000 loss: 0.0039 lr: 0.005\n",
      "iteration: 5000 loss: 0.0034 lr: 0.005\n",
      "iteration: 6000 loss: 0.0031 lr: 0.005\n",
      "iteration: 7000 loss: 0.0030 lr: 0.005\n",
      "iteration: 8000 loss: 0.0026 lr: 0.005\n",
      "iteration: 9000 loss: 0.0025 lr: 0.005\n",
      "iteration: 10000 loss: 0.0023 lr: 0.005\n",
      "iteration: 11000 loss: 0.0049 lr: 0.02\n",
      "iteration: 12000 loss: 0.0033 lr: 0.02\n",
      "iteration: 13000 loss: 0.0029 lr: 0.02\n",
      "iteration: 14000 loss: 0.0026 lr: 0.02\n",
      "iteration: 15000 loss: 0.0024 lr: 0.02\n",
      "iteration: 16000 loss: 0.0022 lr: 0.02\n",
      "iteration: 17000 loss: 0.0022 lr: 0.02\n",
      "iteration: 18000 loss: 0.0021 lr: 0.02\n",
      "iteration: 19000 loss: 0.0019 lr: 0.02\n",
      "iteration: 20000 loss: 0.0019 lr: 0.02\n",
      "iteration: 21000 loss: 0.0020 lr: 0.02\n",
      "iteration: 22000 loss: 0.0018 lr: 0.02\n",
      "iteration: 23000 loss: 0.0018 lr: 0.02\n",
      "iteration: 24000 loss: 0.0018 lr: 0.02\n",
      "iteration: 25000 loss: 0.0018 lr: 0.02\n",
      "iteration: 26000 loss: 0.0017 lr: 0.02\n",
      "iteration: 27000 loss: 0.0017 lr: 0.02\n",
      "iteration: 28000 loss: 0.0017 lr: 0.02\n",
      "iteration: 29000 loss: 0.0016 lr: 0.02\n",
      "iteration: 30000 loss: 0.0017 lr: 0.02\n",
      "iteration: 31000 loss: 0.0016 lr: 0.02\n",
      "iteration: 32000 loss: 0.0016 lr: 0.02\n",
      "iteration: 33000 loss: 0.0016 lr: 0.02\n",
      "iteration: 34000 loss: 0.0016 lr: 0.02\n",
      "iteration: 35000 loss: 0.0015 lr: 0.02\n",
      "iteration: 36000 loss: 0.0016 lr: 0.02\n",
      "iteration: 37000 loss: 0.0015 lr: 0.02\n",
      "iteration: 38000 loss: 0.0015 lr: 0.02\n",
      "iteration: 39000 loss: 0.0015 lr: 0.02\n",
      "iteration: 40000 loss: 0.0015 lr: 0.02\n",
      "iteration: 41000 loss: 0.0014 lr: 0.02\n",
      "iteration: 42000 loss: 0.0015 lr: 0.02\n",
      "iteration: 43000 loss: 0.0014 lr: 0.02\n",
      "iteration: 44000 loss: 0.0015 lr: 0.02\n",
      "iteration: 45000 loss: 0.0015 lr: 0.02\n",
      "iteration: 46000 loss: 0.0014 lr: 0.02\n",
      "iteration: 47000 loss: 0.0014 lr: 0.02\n",
      "iteration: 48000 loss: 0.0014 lr: 0.02\n",
      "iteration: 49000 loss: 0.0014 lr: 0.02\n",
      "iteration: 50000 loss: 0.0014 lr: 0.02\n",
      "iteration: 51000 loss: 0.0014 lr: 0.02\n",
      "iteration: 52000 loss: 0.0014 lr: 0.02\n",
      "iteration: 53000 loss: 0.0014 lr: 0.02\n",
      "iteration: 54000 loss: 0.0014 lr: 0.02\n",
      "iteration: 55000 loss: 0.0014 lr: 0.02\n",
      "iteration: 56000 loss: 0.0014 lr: 0.02\n",
      "iteration: 57000 loss: 0.0014 lr: 0.02\n",
      "iteration: 58000 loss: 0.0014 lr: 0.02\n",
      "iteration: 59000 loss: 0.0013 lr: 0.02\n",
      "iteration: 60000 loss: 0.0014 lr: 0.02\n",
      "iteration: 61000 loss: 0.0013 lr: 0.02\n",
      "iteration: 62000 loss: 0.0013 lr: 0.02\n",
      "iteration: 63000 loss: 0.0013 lr: 0.02\n",
      "iteration: 64000 loss: 0.0013 lr: 0.02\n",
      "iteration: 65000 loss: 0.0013 lr: 0.02\n",
      "iteration: 66000 loss: 0.0013 lr: 0.02\n",
      "iteration: 67000 loss: 0.0013 lr: 0.02\n",
      "iteration: 68000 loss: 0.0013 lr: 0.02\n",
      "iteration: 69000 loss: 0.0013 lr: 0.02\n",
      "iteration: 70000 loss: 0.0013 lr: 0.02\n",
      "iteration: 71000 loss: 0.0013 lr: 0.02\n",
      "iteration: 72000 loss: 0.0013 lr: 0.02\n",
      "iteration: 73000 loss: 0.0013 lr: 0.02\n",
      "iteration: 74000 loss: 0.0013 lr: 0.02\n",
      "iteration: 75000 loss: 0.0013 lr: 0.02\n",
      "iteration: 76000 loss: 0.0013 lr: 0.02\n",
      "iteration: 77000 loss: 0.0013 lr: 0.02\n",
      "iteration: 78000 loss: 0.0013 lr: 0.02\n",
      "iteration: 79000 loss: 0.0013 lr: 0.02\n",
      "iteration: 80000 loss: 0.0013 lr: 0.02\n",
      "iteration: 81000 loss: 0.0013 lr: 0.02\n",
      "iteration: 82000 loss: 0.0013 lr: 0.02\n",
      "iteration: 83000 loss: 0.0013 lr: 0.02\n",
      "iteration: 84000 loss: 0.0012 lr: 0.02\n"
     ]
    },
    {
     "ename": "KeyboardInterrupt",
     "evalue": "",
     "output_type": "error",
     "traceback": [
      "\u001b[1;31m---------------------------------------------------------------------------\u001b[0m",
      "\u001b[1;31mKeyboardInterrupt\u001b[0m                         Traceback (most recent call last)",
      "\u001b[1;32m<ipython-input-13-9519d82efecc>\u001b[0m in \u001b[0;36m<module>\u001b[1;34m()\u001b[0m\n\u001b[1;32m----> 1\u001b[1;33m \u001b[0mdeeplabcut\u001b[0m\u001b[1;33m.\u001b[0m\u001b[0mtrain_network\u001b[0m\u001b[1;33m(\u001b[0m\u001b[0mpath_config_file\u001b[0m\u001b[1;33m)\u001b[0m\u001b[1;33m\u001b[0m\u001b[1;33m\u001b[0m\u001b[0m\n\u001b[0m",
      "\u001b[1;32mc:\\users\\pbs-mysorelab\\.conda\\envs\\nbk1\\lib\\site-packages\\deeplabcut\\pose_estimation_tensorflow\\training.py\u001b[0m in \u001b[0;36mtrain_network\u001b[1;34m(config, shuffle, trainingsetindex, gputouse, max_snapshots_to_keep, autotune, displayiters, saveiters, maxiters)\u001b[0m\n\u001b[0;32m     95\u001b[0m           \u001b[0mtrain\u001b[0m\u001b[1;33m(\u001b[0m\u001b[0mstr\u001b[0m\u001b[1;33m(\u001b[0m\u001b[0mposeconfigfile\u001b[0m\u001b[1;33m)\u001b[0m\u001b[1;33m,\u001b[0m\u001b[0mdisplayiters\u001b[0m\u001b[1;33m,\u001b[0m\u001b[0msaveiters\u001b[0m\u001b[1;33m,\u001b[0m\u001b[0mmaxiters\u001b[0m\u001b[1;33m,\u001b[0m\u001b[0mmax_to_keep\u001b[0m\u001b[1;33m=\u001b[0m\u001b[0mmax_snapshots_to_keep\u001b[0m\u001b[1;33m)\u001b[0m \u001b[1;31m#pass on path and file name for pose_cfg.yaml!\u001b[0m\u001b[1;33m\u001b[0m\u001b[1;33m\u001b[0m\u001b[0m\n\u001b[0;32m     96\u001b[0m       \u001b[1;32mexcept\u001b[0m \u001b[0mBaseException\u001b[0m \u001b[1;32mas\u001b[0m \u001b[0me\u001b[0m\u001b[1;33m:\u001b[0m\u001b[1;33m\u001b[0m\u001b[1;33m\u001b[0m\u001b[0m\n\u001b[1;32m---> 97\u001b[1;33m           \u001b[1;32mraise\u001b[0m \u001b[0me\u001b[0m\u001b[1;33m\u001b[0m\u001b[1;33m\u001b[0m\u001b[0m\n\u001b[0m\u001b[0;32m     98\u001b[0m       \u001b[1;32mfinally\u001b[0m\u001b[1;33m:\u001b[0m\u001b[1;33m\u001b[0m\u001b[1;33m\u001b[0m\u001b[0m\n\u001b[0;32m     99\u001b[0m           \u001b[0mos\u001b[0m\u001b[1;33m.\u001b[0m\u001b[0mchdir\u001b[0m\u001b[1;33m(\u001b[0m\u001b[0mstr\u001b[0m\u001b[1;33m(\u001b[0m\u001b[0mstart_path\u001b[0m\u001b[1;33m)\u001b[0m\u001b[1;33m)\u001b[0m\u001b[1;33m\u001b[0m\u001b[1;33m\u001b[0m\u001b[0m\n",
      "\u001b[1;32mc:\\users\\pbs-mysorelab\\.conda\\envs\\nbk1\\lib\\site-packages\\deeplabcut\\pose_estimation_tensorflow\\training.py\u001b[0m in \u001b[0;36mtrain_network\u001b[1;34m(config, shuffle, trainingsetindex, gputouse, max_snapshots_to_keep, autotune, displayiters, saveiters, maxiters)\u001b[0m\n\u001b[0;32m     93\u001b[0m \u001b[1;33m\u001b[0m\u001b[0m\n\u001b[0;32m     94\u001b[0m       \u001b[1;32mtry\u001b[0m\u001b[1;33m:\u001b[0m\u001b[1;33m\u001b[0m\u001b[1;33m\u001b[0m\u001b[0m\n\u001b[1;32m---> 95\u001b[1;33m           \u001b[0mtrain\u001b[0m\u001b[1;33m(\u001b[0m\u001b[0mstr\u001b[0m\u001b[1;33m(\u001b[0m\u001b[0mposeconfigfile\u001b[0m\u001b[1;33m)\u001b[0m\u001b[1;33m,\u001b[0m\u001b[0mdisplayiters\u001b[0m\u001b[1;33m,\u001b[0m\u001b[0msaveiters\u001b[0m\u001b[1;33m,\u001b[0m\u001b[0mmaxiters\u001b[0m\u001b[1;33m,\u001b[0m\u001b[0mmax_to_keep\u001b[0m\u001b[1;33m=\u001b[0m\u001b[0mmax_snapshots_to_keep\u001b[0m\u001b[1;33m)\u001b[0m \u001b[1;31m#pass on path and file name for pose_cfg.yaml!\u001b[0m\u001b[1;33m\u001b[0m\u001b[1;33m\u001b[0m\u001b[0m\n\u001b[0m\u001b[0;32m     96\u001b[0m       \u001b[1;32mexcept\u001b[0m \u001b[0mBaseException\u001b[0m \u001b[1;32mas\u001b[0m \u001b[0me\u001b[0m\u001b[1;33m:\u001b[0m\u001b[1;33m\u001b[0m\u001b[1;33m\u001b[0m\u001b[0m\n\u001b[0;32m     97\u001b[0m           \u001b[1;32mraise\u001b[0m \u001b[0me\u001b[0m\u001b[1;33m\u001b[0m\u001b[1;33m\u001b[0m\u001b[0m\n",
      "\u001b[1;32mc:\\users\\pbs-mysorelab\\.conda\\envs\\nbk1\\lib\\site-packages\\deeplabcut\\pose_estimation_tensorflow\\train.py\u001b[0m in \u001b[0;36mtrain\u001b[1;34m(config_yaml, displayiters, saveiters, maxiters, max_to_keep)\u001b[0m\n\u001b[0;32m    156\u001b[0m         \u001b[0mcurrent_lr\u001b[0m \u001b[1;33m=\u001b[0m \u001b[0mlr_gen\u001b[0m\u001b[1;33m.\u001b[0m\u001b[0mget_lr\u001b[0m\u001b[1;33m(\u001b[0m\u001b[0mit\u001b[0m\u001b[1;33m)\u001b[0m\u001b[1;33m\u001b[0m\u001b[1;33m\u001b[0m\u001b[0m\n\u001b[0;32m    157\u001b[0m         [_, loss_val, summary] = sess.run([train_op, total_loss, merged_summaries],\n\u001b[1;32m--> 158\u001b[1;33m                                           feed_dict={learning_rate: current_lr})\n\u001b[0m\u001b[0;32m    159\u001b[0m         \u001b[0mcum_loss\u001b[0m \u001b[1;33m+=\u001b[0m \u001b[0mloss_val\u001b[0m\u001b[1;33m\u001b[0m\u001b[1;33m\u001b[0m\u001b[0m\n\u001b[0;32m    160\u001b[0m         \u001b[0mtrain_writer\u001b[0m\u001b[1;33m.\u001b[0m\u001b[0madd_summary\u001b[0m\u001b[1;33m(\u001b[0m\u001b[0msummary\u001b[0m\u001b[1;33m,\u001b[0m \u001b[0mit\u001b[0m\u001b[1;33m)\u001b[0m\u001b[1;33m\u001b[0m\u001b[1;33m\u001b[0m\u001b[0m\n",
      "\u001b[1;32mc:\\users\\pbs-mysorelab\\.conda\\envs\\nbk1\\lib\\site-packages\\tensorflow\\python\\client\\session.py\u001b[0m in \u001b[0;36mrun\u001b[1;34m(self, fetches, feed_dict, options, run_metadata)\u001b[0m\n\u001b[0;32m    787\u001b[0m     \u001b[1;32mtry\u001b[0m\u001b[1;33m:\u001b[0m\u001b[1;33m\u001b[0m\u001b[1;33m\u001b[0m\u001b[0m\n\u001b[0;32m    788\u001b[0m       result = self._run(None, fetches, feed_dict, options_ptr,\n\u001b[1;32m--> 789\u001b[1;33m                          run_metadata_ptr)\n\u001b[0m\u001b[0;32m    790\u001b[0m       \u001b[1;32mif\u001b[0m \u001b[0mrun_metadata\u001b[0m\u001b[1;33m:\u001b[0m\u001b[1;33m\u001b[0m\u001b[1;33m\u001b[0m\u001b[0m\n\u001b[0;32m    791\u001b[0m         \u001b[0mproto_data\u001b[0m \u001b[1;33m=\u001b[0m \u001b[0mtf_session\u001b[0m\u001b[1;33m.\u001b[0m\u001b[0mTF_GetBuffer\u001b[0m\u001b[1;33m(\u001b[0m\u001b[0mrun_metadata_ptr\u001b[0m\u001b[1;33m)\u001b[0m\u001b[1;33m\u001b[0m\u001b[1;33m\u001b[0m\u001b[0m\n",
      "\u001b[1;32mc:\\users\\pbs-mysorelab\\.conda\\envs\\nbk1\\lib\\site-packages\\tensorflow\\python\\client\\session.py\u001b[0m in \u001b[0;36m_run\u001b[1;34m(self, handle, fetches, feed_dict, options, run_metadata)\u001b[0m\n\u001b[0;32m    995\u001b[0m     \u001b[1;32mif\u001b[0m \u001b[0mfinal_fetches\u001b[0m \u001b[1;32mor\u001b[0m \u001b[0mfinal_targets\u001b[0m\u001b[1;33m:\u001b[0m\u001b[1;33m\u001b[0m\u001b[1;33m\u001b[0m\u001b[0m\n\u001b[0;32m    996\u001b[0m       results = self._do_run(handle, final_targets, final_fetches,\n\u001b[1;32m--> 997\u001b[1;33m                              feed_dict_string, options, run_metadata)\n\u001b[0m\u001b[0;32m    998\u001b[0m     \u001b[1;32melse\u001b[0m\u001b[1;33m:\u001b[0m\u001b[1;33m\u001b[0m\u001b[1;33m\u001b[0m\u001b[0m\n\u001b[0;32m    999\u001b[0m       \u001b[0mresults\u001b[0m \u001b[1;33m=\u001b[0m \u001b[1;33m[\u001b[0m\u001b[1;33m]\u001b[0m\u001b[1;33m\u001b[0m\u001b[1;33m\u001b[0m\u001b[0m\n",
      "\u001b[1;32mc:\\users\\pbs-mysorelab\\.conda\\envs\\nbk1\\lib\\site-packages\\tensorflow\\python\\client\\session.py\u001b[0m in \u001b[0;36m_do_run\u001b[1;34m(self, handle, target_list, fetch_list, feed_dict, options, run_metadata)\u001b[0m\n\u001b[0;32m   1130\u001b[0m     \u001b[1;32mif\u001b[0m \u001b[0mhandle\u001b[0m \u001b[1;32mis\u001b[0m \u001b[1;32mNone\u001b[0m\u001b[1;33m:\u001b[0m\u001b[1;33m\u001b[0m\u001b[1;33m\u001b[0m\u001b[0m\n\u001b[0;32m   1131\u001b[0m       return self._do_call(_run_fn, self._session, feed_dict, fetch_list,\n\u001b[1;32m-> 1132\u001b[1;33m                            target_list, options, run_metadata)\n\u001b[0m\u001b[0;32m   1133\u001b[0m     \u001b[1;32melse\u001b[0m\u001b[1;33m:\u001b[0m\u001b[1;33m\u001b[0m\u001b[1;33m\u001b[0m\u001b[0m\n\u001b[0;32m   1134\u001b[0m       return self._do_call(_prun_fn, self._session, handle, feed_dict,\n",
      "\u001b[1;32mc:\\users\\pbs-mysorelab\\.conda\\envs\\nbk1\\lib\\site-packages\\tensorflow\\python\\client\\session.py\u001b[0m in \u001b[0;36m_do_call\u001b[1;34m(self, fn, *args)\u001b[0m\n\u001b[0;32m   1137\u001b[0m   \u001b[1;32mdef\u001b[0m \u001b[0m_do_call\u001b[0m\u001b[1;33m(\u001b[0m\u001b[0mself\u001b[0m\u001b[1;33m,\u001b[0m \u001b[0mfn\u001b[0m\u001b[1;33m,\u001b[0m \u001b[1;33m*\u001b[0m\u001b[0margs\u001b[0m\u001b[1;33m)\u001b[0m\u001b[1;33m:\u001b[0m\u001b[1;33m\u001b[0m\u001b[1;33m\u001b[0m\u001b[0m\n\u001b[0;32m   1138\u001b[0m     \u001b[1;32mtry\u001b[0m\u001b[1;33m:\u001b[0m\u001b[1;33m\u001b[0m\u001b[1;33m\u001b[0m\u001b[0m\n\u001b[1;32m-> 1139\u001b[1;33m       \u001b[1;32mreturn\u001b[0m \u001b[0mfn\u001b[0m\u001b[1;33m(\u001b[0m\u001b[1;33m*\u001b[0m\u001b[0margs\u001b[0m\u001b[1;33m)\u001b[0m\u001b[1;33m\u001b[0m\u001b[1;33m\u001b[0m\u001b[0m\n\u001b[0m\u001b[0;32m   1140\u001b[0m     \u001b[1;32mexcept\u001b[0m \u001b[0merrors\u001b[0m\u001b[1;33m.\u001b[0m\u001b[0mOpError\u001b[0m \u001b[1;32mas\u001b[0m \u001b[0me\u001b[0m\u001b[1;33m:\u001b[0m\u001b[1;33m\u001b[0m\u001b[1;33m\u001b[0m\u001b[0m\n\u001b[0;32m   1141\u001b[0m       \u001b[0mmessage\u001b[0m \u001b[1;33m=\u001b[0m \u001b[0mcompat\u001b[0m\u001b[1;33m.\u001b[0m\u001b[0mas_text\u001b[0m\u001b[1;33m(\u001b[0m\u001b[0me\u001b[0m\u001b[1;33m.\u001b[0m\u001b[0mmessage\u001b[0m\u001b[1;33m)\u001b[0m\u001b[1;33m\u001b[0m\u001b[1;33m\u001b[0m\u001b[0m\n",
      "\u001b[1;32mc:\\users\\pbs-mysorelab\\.conda\\envs\\nbk1\\lib\\site-packages\\tensorflow\\python\\client\\session.py\u001b[0m in \u001b[0;36m_run_fn\u001b[1;34m(session, feed_dict, fetch_list, target_list, options, run_metadata)\u001b[0m\n\u001b[0;32m   1119\u001b[0m         return tf_session.TF_Run(session, options,\n\u001b[0;32m   1120\u001b[0m                                  \u001b[0mfeed_dict\u001b[0m\u001b[1;33m,\u001b[0m \u001b[0mfetch_list\u001b[0m\u001b[1;33m,\u001b[0m \u001b[0mtarget_list\u001b[0m\u001b[1;33m,\u001b[0m\u001b[1;33m\u001b[0m\u001b[1;33m\u001b[0m\u001b[0m\n\u001b[1;32m-> 1121\u001b[1;33m                                  status, run_metadata)\n\u001b[0m\u001b[0;32m   1122\u001b[0m \u001b[1;33m\u001b[0m\u001b[0m\n\u001b[0;32m   1123\u001b[0m     \u001b[1;32mdef\u001b[0m \u001b[0m_prun_fn\u001b[0m\u001b[1;33m(\u001b[0m\u001b[0msession\u001b[0m\u001b[1;33m,\u001b[0m \u001b[0mhandle\u001b[0m\u001b[1;33m,\u001b[0m \u001b[0mfeed_dict\u001b[0m\u001b[1;33m,\u001b[0m \u001b[0mfetch_list\u001b[0m\u001b[1;33m)\u001b[0m\u001b[1;33m:\u001b[0m\u001b[1;33m\u001b[0m\u001b[1;33m\u001b[0m\u001b[0m\n",
      "\u001b[1;31mKeyboardInterrupt\u001b[0m: "
     ]
    }
   ],
   "source": [
    "deeplabcut.train_network(path_config_file)"
   ]
  },
  {
   "cell_type": "code",
   "execution_count": null,
   "metadata": {},
   "outputs": [],
   "source": []
  }
 ],
 "metadata": {
  "kernelspec": {
   "display_name": "Python 3",
   "language": "python",
   "name": "python3"
  },
  "language_info": {
   "codemirror_mode": {
    "name": "ipython",
    "version": 3
   },
   "file_extension": ".py",
   "mimetype": "text/x-python",
   "name": "python",
   "nbconvert_exporter": "python",
   "pygments_lexer": "ipython3",
   "version": "3.6.9"
  }
 },
 "nbformat": 4,
 "nbformat_minor": 2
}
