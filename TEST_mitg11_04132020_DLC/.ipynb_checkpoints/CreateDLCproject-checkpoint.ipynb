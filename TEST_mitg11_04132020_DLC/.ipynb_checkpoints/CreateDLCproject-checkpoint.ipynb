{
 "cells": [
  {
   "cell_type": "markdown",
   "metadata": {},
   "source": [
    "<h1> NOTEBOOK TO CREATE DLC PROJECT, EXTRACT FRAMES & LABEL DATA </h1>\n",
    "\n",
    "make sure you are running this notebook in properly setup conda enviroment. The nbkGPU enviroment set up on server 2 works properly. "
   ]
  },
  {
   "cell_type": "code",
   "execution_count": 1,
   "metadata": {},
   "outputs": [],
   "source": [
    "#Errors here mean there are issues with the enviroment dependencies or PATH configuration\n",
    "import deeplabcut\n",
    "import os\n",
    "task = 'cam1_mitg11_04132020'\n",
    "experimenter = 'spencer_loggia'"
   ]
  },
  {
   "cell_type": "markdown",
   "metadata": {},
   "source": [
    "Get all videos from the provided video source directory"
   ]
  },
  {
   "cell_type": "code",
   "execution_count": 2,
   "metadata": {},
   "outputs": [
    {
     "name": "stdout",
     "output_type": "stream",
     "text": [
      "['F:\\\\MysoreData\\\\nbk\\\\mitg11_4-13-20\\\\cam1\\\\clips\\\\mitg11-839--04132020085312.avi_clip_1.avi', 'F:\\\\MysoreData\\\\nbk\\\\mitg11_4-13-20\\\\cam1\\\\clips\\\\mitg11-839--04132020085312.avi_clip_10.avi', 'F:\\\\MysoreData\\\\nbk\\\\mitg11_4-13-20\\\\cam1\\\\clips\\\\mitg11-839--04132020085312.avi_clip_100.avi', 'F:\\\\MysoreData\\\\nbk\\\\mitg11_4-13-20\\\\cam1\\\\clips\\\\mitg11-839--04132020085312.avi_clip_101.avi', 'F:\\\\MysoreData\\\\nbk\\\\mitg11_4-13-20\\\\cam1\\\\clips\\\\mitg11-839--04132020085312.avi_clip_102.avi', 'F:\\\\MysoreData\\\\nbk\\\\mitg11_4-13-20\\\\cam1\\\\clips\\\\mitg11-839--04132020085312.avi_clip_103.avi', 'F:\\\\MysoreData\\\\nbk\\\\mitg11_4-13-20\\\\cam1\\\\clips\\\\mitg11-839--04132020085312.avi_clip_104.avi', 'F:\\\\MysoreData\\\\nbk\\\\mitg11_4-13-20\\\\cam1\\\\clips\\\\mitg11-839--04132020085312.avi_clip_105.avi', 'F:\\\\MysoreData\\\\nbk\\\\mitg11_4-13-20\\\\cam1\\\\clips\\\\mitg11-839--04132020085312.avi_clip_106.avi', 'F:\\\\MysoreData\\\\nbk\\\\mitg11_4-13-20\\\\cam1\\\\clips\\\\mitg11-839--04132020085312.avi_clip_107.avi', 'F:\\\\MysoreData\\\\nbk\\\\mitg11_4-13-20\\\\cam1\\\\clips\\\\mitg11-839--04132020085312.avi_clip_108.avi', 'F:\\\\MysoreData\\\\nbk\\\\mitg11_4-13-20\\\\cam1\\\\clips\\\\mitg11-839--04132020085312.avi_clip_109.avi', 'F:\\\\MysoreData\\\\nbk\\\\mitg11_4-13-20\\\\cam1\\\\clips\\\\mitg11-839--04132020085312.avi_clip_11.avi', 'F:\\\\MysoreData\\\\nbk\\\\mitg11_4-13-20\\\\cam1\\\\clips\\\\mitg11-839--04132020085312.avi_clip_110.avi', 'F:\\\\MysoreData\\\\nbk\\\\mitg11_4-13-20\\\\cam1\\\\clips\\\\mitg11-839--04132020085312.avi_clip_111.avi', 'F:\\\\MysoreData\\\\nbk\\\\mitg11_4-13-20\\\\cam1\\\\clips\\\\mitg11-839--04132020085312.avi_clip_112.avi', 'F:\\\\MysoreData\\\\nbk\\\\mitg11_4-13-20\\\\cam1\\\\clips\\\\mitg11-839--04132020085312.avi_clip_113.avi', 'F:\\\\MysoreData\\\\nbk\\\\mitg11_4-13-20\\\\cam1\\\\clips\\\\mitg11-839--04132020085312.avi_clip_114.avi', 'F:\\\\MysoreData\\\\nbk\\\\mitg11_4-13-20\\\\cam1\\\\clips\\\\mitg11-839--04132020085312.avi_clip_115.avi', 'F:\\\\MysoreData\\\\nbk\\\\mitg11_4-13-20\\\\cam1\\\\clips\\\\mitg11-839--04132020085312.avi_clip_116.avi', 'F:\\\\MysoreData\\\\nbk\\\\mitg11_4-13-20\\\\cam1\\\\clips\\\\mitg11-839--04132020085312.avi_clip_117.avi', 'F:\\\\MysoreData\\\\nbk\\\\mitg11_4-13-20\\\\cam1\\\\clips\\\\mitg11-839--04132020085312.avi_clip_118.avi', 'F:\\\\MysoreData\\\\nbk\\\\mitg11_4-13-20\\\\cam1\\\\clips\\\\mitg11-839--04132020085312.avi_clip_119.avi', 'F:\\\\MysoreData\\\\nbk\\\\mitg11_4-13-20\\\\cam1\\\\clips\\\\mitg11-839--04132020085312.avi_clip_12.avi', 'F:\\\\MysoreData\\\\nbk\\\\mitg11_4-13-20\\\\cam1\\\\clips\\\\mitg11-839--04132020085312.avi_clip_120.avi', 'mitg11-839--04132020085312.avi_clip_121.avi', 'mitg11-839--04132020085312.avi_clip_122.avi', 'mitg11-839--04132020085312.avi_clip_123.avi', 'mitg11-839--04132020085312.avi_clip_124.avi', 'mitg11-839--04132020085312.avi_clip_125.avi', 'mitg11-839--04132020085312.avi_clip_126.avi', 'mitg11-839--04132020085312.avi_clip_127.avi', 'mitg11-839--04132020085312.avi_clip_128.avi', 'mitg11-839--04132020085312.avi_clip_129.avi', 'mitg11-839--04132020085312.avi_clip_13.avi', 'mitg11-839--04132020085312.avi_clip_130.avi', 'mitg11-839--04132020085312.avi_clip_131.avi', 'mitg11-839--04132020085312.avi_clip_132.avi', 'mitg11-839--04132020085312.avi_clip_133.avi', 'mitg11-839--04132020085312.avi_clip_134.avi', 'mitg11-839--04132020085312.avi_clip_135.avi', 'mitg11-839--04132020085312.avi_clip_136.avi', 'mitg11-839--04132020085312.avi_clip_137.avi', 'mitg11-839--04132020085312.avi_clip_138.avi', 'mitg11-839--04132020085312.avi_clip_139.avi', 'mitg11-839--04132020085312.avi_clip_14.avi', 'mitg11-839--04132020085312.avi_clip_140.avi', 'mitg11-839--04132020085312.avi_clip_141.avi', 'mitg11-839--04132020085312.avi_clip_142.avi', 'mitg11-839--04132020085312.avi_clip_143.avi', 'mitg11-839--04132020085312.avi_clip_15.avi', 'mitg11-839--04132020085312.avi_clip_16.avi', 'mitg11-839--04132020085312.avi_clip_17.avi', 'mitg11-839--04132020085312.avi_clip_18.avi', 'mitg11-839--04132020085312.avi_clip_19.avi', 'mitg11-839--04132020085312.avi_clip_2.avi', 'mitg11-839--04132020085312.avi_clip_20.avi', 'mitg11-839--04132020085312.avi_clip_21.avi', 'mitg11-839--04132020085312.avi_clip_22.avi', 'mitg11-839--04132020085312.avi_clip_23.avi', 'mitg11-839--04132020085312.avi_clip_24.avi', 'mitg11-839--04132020085312.avi_clip_25.avi', 'mitg11-839--04132020085312.avi_clip_26.avi', 'mitg11-839--04132020085312.avi_clip_27.avi', 'mitg11-839--04132020085312.avi_clip_28.avi', 'mitg11-839--04132020085312.avi_clip_29.avi', 'mitg11-839--04132020085312.avi_clip_3.avi', 'mitg11-839--04132020085312.avi_clip_30.avi', 'mitg11-839--04132020085312.avi_clip_31.avi', 'mitg11-839--04132020085312.avi_clip_32.avi', 'mitg11-839--04132020085312.avi_clip_33.avi', 'mitg11-839--04132020085312.avi_clip_34.avi', 'mitg11-839--04132020085312.avi_clip_35.avi', 'mitg11-839--04132020085312.avi_clip_36.avi', 'mitg11-839--04132020085312.avi_clip_37.avi', 'mitg11-839--04132020085312.avi_clip_38.avi', 'mitg11-839--04132020085312.avi_clip_39.avi', 'mitg11-839--04132020085312.avi_clip_4.avi', 'mitg11-839--04132020085312.avi_clip_40.avi', 'mitg11-839--04132020085312.avi_clip_41.avi', 'mitg11-839--04132020085312.avi_clip_42.avi', 'mitg11-839--04132020085312.avi_clip_43.avi', 'mitg11-839--04132020085312.avi_clip_44.avi', 'mitg11-839--04132020085312.avi_clip_45.avi', 'mitg11-839--04132020085312.avi_clip_46.avi', 'mitg11-839--04132020085312.avi_clip_47.avi', 'mitg11-839--04132020085312.avi_clip_48.avi', 'mitg11-839--04132020085312.avi_clip_49.avi', 'mitg11-839--04132020085312.avi_clip_5.avi', 'mitg11-839--04132020085312.avi_clip_50.avi', 'mitg11-839--04132020085312.avi_clip_51.avi', 'mitg11-839--04132020085312.avi_clip_52.avi', 'mitg11-839--04132020085312.avi_clip_53.avi', 'mitg11-839--04132020085312.avi_clip_54.avi', 'mitg11-839--04132020085312.avi_clip_55.avi', 'mitg11-839--04132020085312.avi_clip_56.avi', 'mitg11-839--04132020085312.avi_clip_57.avi', 'mitg11-839--04132020085312.avi_clip_58.avi', 'mitg11-839--04132020085312.avi_clip_59.avi', 'mitg11-839--04132020085312.avi_clip_6.avi', 'mitg11-839--04132020085312.avi_clip_60.avi', 'mitg11-839--04132020085312.avi_clip_61.avi', 'mitg11-839--04132020085312.avi_clip_62.avi', 'mitg11-839--04132020085312.avi_clip_63.avi', 'mitg11-839--04132020085312.avi_clip_64.avi', 'mitg11-839--04132020085312.avi_clip_65.avi', 'mitg11-839--04132020085312.avi_clip_66.avi', 'mitg11-839--04132020085312.avi_clip_67.avi', 'mitg11-839--04132020085312.avi_clip_68.avi', 'mitg11-839--04132020085312.avi_clip_69.avi', 'mitg11-839--04132020085312.avi_clip_7.avi', 'mitg11-839--04132020085312.avi_clip_70.avi', 'mitg11-839--04132020085312.avi_clip_71.avi', 'mitg11-839--04132020085312.avi_clip_72.avi', 'mitg11-839--04132020085312.avi_clip_73.avi', 'mitg11-839--04132020085312.avi_clip_74.avi', 'mitg11-839--04132020085312.avi_clip_75.avi', 'mitg11-839--04132020085312.avi_clip_76.avi', 'mitg11-839--04132020085312.avi_clip_77.avi', 'mitg11-839--04132020085312.avi_clip_78.avi', 'mitg11-839--04132020085312.avi_clip_79.avi', 'mitg11-839--04132020085312.avi_clip_8.avi', 'mitg11-839--04132020085312.avi_clip_80.avi', 'mitg11-839--04132020085312.avi_clip_81.avi', 'mitg11-839--04132020085312.avi_clip_82.avi', 'mitg11-839--04132020085312.avi_clip_83.avi', 'mitg11-839--04132020085312.avi_clip_84.avi', 'mitg11-839--04132020085312.avi_clip_85.avi', 'mitg11-839--04132020085312.avi_clip_86.avi', 'mitg11-839--04132020085312.avi_clip_87.avi', 'mitg11-839--04132020085312.avi_clip_88.avi', 'mitg11-839--04132020085312.avi_clip_89.avi', 'mitg11-839--04132020085312.avi_clip_9.avi', 'mitg11-839--04132020085312.avi_clip_90.avi', 'mitg11-839--04132020085312.avi_clip_91.avi', 'mitg11-839--04132020085312.avi_clip_92.avi', 'mitg11-839--04132020085312.avi_clip_93.avi', 'mitg11-839--04132020085312.avi_clip_94.avi', 'mitg11-839--04132020085312.avi_clip_95.avi', 'mitg11-839--04132020085312.avi_clip_96.avi', 'mitg11-839--04132020085312.avi_clip_97.avi', 'mitg11-839--04132020085312.avi_clip_98.avi', 'mitg11-839--04132020085312.avi_clip_99.avi']\n"
     ]
    }
   ],
   "source": [
    "VIDEO_SOURCE = r'F:\\MysoreData\\nbk\\mitg11_4-13-20\\cam1\\clips'\n",
    "all_video = os.listdir(VIDEO_SOURCE)\n",
    "video = []\n",
    "NUM_VIDS = 25 #set to len(video) to label all videos\n",
    "for i in range(0,NUM_VIDS):\n",
    "    video.append(VIDEO_SOURCE + '\\\\' + all_video[i])\n",
    "num_videos = len(video)\n",
    "print(video)"
   ]
  },
  {
   "cell_type": "markdown",
   "metadata": {},
   "source": [
    "Generate the deeplabcut project, change working directory or else it is created in current directory. The output is the path to the config file. "
   ]
  },
  {
   "cell_type": "code",
   "execution_count": null,
   "metadata": {},
   "outputs": [],
   "source": [
    "path_config_file=deeplabcut.create_new_project(task,experimenter,video, working_directory='.\\\\', copy_videos=True)\n",
    "print(path_config_file)"
   ]
  },
  {
   "cell_type": "markdown",
   "metadata": {},
   "source": [
    "At this point take a moment to edit the config.yaml file in the new project directory. Set the num2pick variable can be set to change number labeled frames per video. Also edit batch_size to change number of labelled images in each set. <br> \n",
    "\n",
    "<h1> Now we can extract frames!</h1><br>\n",
    "<p>This shows you one frame in the DLC gui from each video in your videos array. It asks you to crop the frame to the area you care about. DLC does not recommend croping to an images size greater than 600X800px <br>\n",
    "    Deep lab cut also now selects a number of frames equal to the num2pick configuiration from each video for labelling. These are subdevided into both the training and test sets.<p/>\n",
    "    \n",
    "                                   "
   ]
  },
  {
   "cell_type": "code",
   "execution_count": null,
   "metadata": {},
   "outputs": [],
   "source": [
    "#load matplotlib so outputs can be displayed \n",
    "%matplotlib inline \n",
    "\n",
    "deeplabcut.extract_frames(path_config_file,'automatic','uniform',crop=True)"
   ]
  },
  {
   "cell_type": "markdown",
   "metadata": {},
   "source": [
    "<h1> Now we label the test and training data! </h1> \n",
    "    \n",
    "Once the labelling gui opens, you may have to expand the bottom menu to make sure all buttons are visable.\n",
    "There will be a folder with the extracted frames for each video. Go into each and right click to place the current label. Skip a label by choosing the next one on the right hand menu."
   ]
  },
  {
   "cell_type": "code",
   "execution_count": null,
   "metadata": {},
   "outputs": [],
   "source": [
    "%gui wx\n",
    "%matplotlib inline \n",
    "deeplabcut.label_frames(path_config_file)"
   ]
  },
  {
   "cell_type": "markdown",
   "metadata": {},
   "source": [
    "The last step is just an automatic check of the labelled data. You should see no errors or something has gone wrong. "
   ]
  },
  {
   "cell_type": "code",
   "execution_count": null,
   "metadata": {},
   "outputs": [],
   "source": [
    "deeplabcut.check_labels(path_config_file) #this creates a subdirectory with the frames + your labels"
   ]
  },
  {
   "cell_type": "markdown",
   "metadata": {},
   "source": [
    "<h1> Next Steps: </h1>\n",
    "<h2> In order to actually train the network, we must use another notebook that runs in a docker container. This allows tensorflow to communicate properly with GPUs in windows </h2>\n",
    "run the below cell to get the path_config_file location, copy this path. Open the Docker_DLC_GPU notebook in this directory and set the path_config_file variable there to the same thing. "
   ]
  },
  {
   "cell_type": "code",
   "execution_count": null,
   "metadata": {},
   "outputs": [],
   "source": [
    "print(path_config_file)"
   ]
  }
 ],
 "metadata": {
  "kernelspec": {
   "display_name": "Python 3",
   "language": "python",
   "name": "python3"
  },
  "language_info": {
   "codemirror_mode": {
    "name": "ipython",
    "version": 3
   },
   "file_extension": ".py",
   "mimetype": "text/x-python",
   "name": "python",
   "nbconvert_exporter": "python",
   "pygments_lexer": "ipython3",
   "version": "3.6.9"
  }
 },
 "nbformat": 4,
 "nbformat_minor": 2
}
