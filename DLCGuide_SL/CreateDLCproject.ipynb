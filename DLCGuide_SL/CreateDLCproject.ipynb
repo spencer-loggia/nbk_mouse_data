{
 "cells": [
  {
   "cell_type": "markdown",
   "metadata": {},
   "source": [
    "<h1> NOTEBOOK TO CREATE DLC PROJECT, EXTRACT FRAMES & LABEL DATA </h1>\n",
    "\n",
    "make sure you are running this notebook in properly setup conda enviroment. The nbkGPU enviroment set up on server 2 works properly. "
   ]
  },
  {
   "cell_type": "code",
   "execution_count": 2,
   "metadata": {},
   "outputs": [],
   "source": [
    "#Errors here mean there are issues with the enviroment dependencies or PATH configuration\n",
    "import deeplabcut\n",
    "import os\n",
    "task = 'TEST_50fps_mitg05_042120_cam1'\n",
    "experimenter = 'spencer loggia'"
   ]
  },
  {
   "cell_type": "markdown",
   "metadata": {},
   "source": [
    "Get all videos from the provided video source directory"
   ]
  },
  {
   "cell_type": "code",
   "execution_count": 4,
   "metadata": {},
   "outputs": [
    {
     "name": "stdout",
     "output_type": "stream",
     "text": [
      "['F:\\\\MysoreData\\\\nbk\\\\mouse_videos\\\\mitg05\\\\04212020\\\\cam1\\\\clips\\\\mitg05-839--04212020093253.avi_clip_1.avi', 'F:\\\\MysoreData\\\\nbk\\\\mouse_videos\\\\mitg05\\\\04212020\\\\cam1\\\\clips\\\\mitg05-839--04212020093253.avi_clip_10.avi', 'F:\\\\MysoreData\\\\nbk\\\\mouse_videos\\\\mitg05\\\\04212020\\\\cam1\\\\clips\\\\mitg05-839--04212020093253.avi_clip_100.avi', 'F:\\\\MysoreData\\\\nbk\\\\mouse_videos\\\\mitg05\\\\04212020\\\\cam1\\\\clips\\\\mitg05-839--04212020093253.avi_clip_101.avi', 'F:\\\\MysoreData\\\\nbk\\\\mouse_videos\\\\mitg05\\\\04212020\\\\cam1\\\\clips\\\\mitg05-839--04212020093253.avi_clip_102.avi', 'F:\\\\MysoreData\\\\nbk\\\\mouse_videos\\\\mitg05\\\\04212020\\\\cam1\\\\clips\\\\mitg05-839--04212020093253.avi_clip_103.avi', 'F:\\\\MysoreData\\\\nbk\\\\mouse_videos\\\\mitg05\\\\04212020\\\\cam1\\\\clips\\\\mitg05-839--04212020093253.avi_clip_104.avi', 'F:\\\\MysoreData\\\\nbk\\\\mouse_videos\\\\mitg05\\\\04212020\\\\cam1\\\\clips\\\\mitg05-839--04212020093253.avi_clip_105.avi', 'F:\\\\MysoreData\\\\nbk\\\\mouse_videos\\\\mitg05\\\\04212020\\\\cam1\\\\clips\\\\mitg05-839--04212020093253.avi_clip_106.avi', 'F:\\\\MysoreData\\\\nbk\\\\mouse_videos\\\\mitg05\\\\04212020\\\\cam1\\\\clips\\\\mitg05-839--04212020093253.avi_clip_107.avi', 'mitg05-839--04212020093253.avi_clip_108.avi', 'mitg05-839--04212020093253.avi_clip_109.avi', 'mitg05-839--04212020093253.avi_clip_11.avi', 'mitg05-839--04212020093253.avi_clip_12.avi', 'mitg05-839--04212020093253.avi_clip_13.avi', 'mitg05-839--04212020093253.avi_clip_14.avi', 'mitg05-839--04212020093253.avi_clip_15.avi', 'mitg05-839--04212020093253.avi_clip_16.avi', 'mitg05-839--04212020093253.avi_clip_17.avi', 'mitg05-839--04212020093253.avi_clip_18.avi', 'mitg05-839--04212020093253.avi_clip_19.avi', 'mitg05-839--04212020093253.avi_clip_2.avi', 'mitg05-839--04212020093253.avi_clip_20.avi', 'mitg05-839--04212020093253.avi_clip_21.avi', 'mitg05-839--04212020093253.avi_clip_22.avi', 'mitg05-839--04212020093253.avi_clip_23.avi', 'mitg05-839--04212020093253.avi_clip_24.avi', 'mitg05-839--04212020093253.avi_clip_25.avi', 'mitg05-839--04212020093253.avi_clip_26.avi', 'mitg05-839--04212020093253.avi_clip_27.avi', 'mitg05-839--04212020093253.avi_clip_28.avi', 'mitg05-839--04212020093253.avi_clip_29.avi', 'mitg05-839--04212020093253.avi_clip_3.avi', 'mitg05-839--04212020093253.avi_clip_30.avi', 'mitg05-839--04212020093253.avi_clip_31.avi', 'mitg05-839--04212020093253.avi_clip_32.avi', 'mitg05-839--04212020093253.avi_clip_33.avi', 'mitg05-839--04212020093253.avi_clip_34.avi', 'mitg05-839--04212020093253.avi_clip_35.avi', 'mitg05-839--04212020093253.avi_clip_36.avi', 'mitg05-839--04212020093253.avi_clip_37.avi', 'mitg05-839--04212020093253.avi_clip_38.avi', 'mitg05-839--04212020093253.avi_clip_39.avi', 'mitg05-839--04212020093253.avi_clip_4.avi', 'mitg05-839--04212020093253.avi_clip_40.avi', 'mitg05-839--04212020093253.avi_clip_41.avi', 'mitg05-839--04212020093253.avi_clip_42.avi', 'mitg05-839--04212020093253.avi_clip_43.avi', 'mitg05-839--04212020093253.avi_clip_44.avi', 'mitg05-839--04212020093253.avi_clip_45.avi', 'mitg05-839--04212020093253.avi_clip_46.avi', 'mitg05-839--04212020093253.avi_clip_47.avi', 'mitg05-839--04212020093253.avi_clip_48.avi', 'mitg05-839--04212020093253.avi_clip_49.avi', 'mitg05-839--04212020093253.avi_clip_5.avi', 'mitg05-839--04212020093253.avi_clip_50.avi', 'mitg05-839--04212020093253.avi_clip_51.avi', 'mitg05-839--04212020093253.avi_clip_52.avi', 'mitg05-839--04212020093253.avi_clip_53.avi', 'mitg05-839--04212020093253.avi_clip_54.avi', 'mitg05-839--04212020093253.avi_clip_55.avi', 'mitg05-839--04212020093253.avi_clip_56.avi', 'mitg05-839--04212020093253.avi_clip_57.avi', 'mitg05-839--04212020093253.avi_clip_58.avi', 'mitg05-839--04212020093253.avi_clip_59.avi', 'mitg05-839--04212020093253.avi_clip_6.avi', 'mitg05-839--04212020093253.avi_clip_60.avi', 'mitg05-839--04212020093253.avi_clip_61.avi', 'mitg05-839--04212020093253.avi_clip_62.avi', 'mitg05-839--04212020093253.avi_clip_63.avi', 'mitg05-839--04212020093253.avi_clip_64.avi', 'mitg05-839--04212020093253.avi_clip_65.avi', 'mitg05-839--04212020093253.avi_clip_66.avi', 'mitg05-839--04212020093253.avi_clip_67.avi', 'mitg05-839--04212020093253.avi_clip_68.avi', 'mitg05-839--04212020093253.avi_clip_69.avi', 'mitg05-839--04212020093253.avi_clip_7.avi', 'mitg05-839--04212020093253.avi_clip_70.avi', 'mitg05-839--04212020093253.avi_clip_71.avi', 'mitg05-839--04212020093253.avi_clip_72.avi', 'mitg05-839--04212020093253.avi_clip_73.avi', 'mitg05-839--04212020093253.avi_clip_74.avi', 'mitg05-839--04212020093253.avi_clip_75.avi', 'mitg05-839--04212020093253.avi_clip_76.avi', 'mitg05-839--04212020093253.avi_clip_77.avi', 'mitg05-839--04212020093253.avi_clip_78.avi', 'mitg05-839--04212020093253.avi_clip_79.avi', 'mitg05-839--04212020093253.avi_clip_8.avi', 'mitg05-839--04212020093253.avi_clip_80.avi', 'mitg05-839--04212020093253.avi_clip_81.avi', 'mitg05-839--04212020093253.avi_clip_82.avi', 'mitg05-839--04212020093253.avi_clip_83.avi', 'mitg05-839--04212020093253.avi_clip_84.avi', 'mitg05-839--04212020093253.avi_clip_85.avi', 'mitg05-839--04212020093253.avi_clip_86.avi', 'mitg05-839--04212020093253.avi_clip_87.avi', 'mitg05-839--04212020093253.avi_clip_88.avi', 'mitg05-839--04212020093253.avi_clip_89.avi', 'mitg05-839--04212020093253.avi_clip_9.avi', 'mitg05-839--04212020093253.avi_clip_90.avi', 'mitg05-839--04212020093253.avi_clip_91.avi', 'mitg05-839--04212020093253.avi_clip_92.avi', 'mitg05-839--04212020093253.avi_clip_93.avi', 'mitg05-839--04212020093253.avi_clip_94.avi', 'mitg05-839--04212020093253.avi_clip_95.avi', 'mitg05-839--04212020093253.avi_clip_96.avi', 'mitg05-839--04212020093253.avi_clip_97.avi', 'mitg05-839--04212020093253.avi_clip_98.avi', 'mitg05-839--04212020093253.avi_clip_99.avi']\n"
     ]
    }
   ],
   "source": [
    "VIDEO_SOURCE = r'F:\\MysoreData\\nbk\\mouse_videos\\mitg05\\04212020\\cam1\\clips'\n",
    "video = os.listdir(VIDEO_SOURCE)\n",
    "for i in range(0,10):\n",
    "    video[i] = VIDEO_SOURCE + '\\\\' + video[i]\n",
    "    \n",
    "num_videos = len(video)\n",
    "print(video)"
   ]
  },
  {
   "cell_type": "markdown",
   "metadata": {},
   "source": [
    "Generate the deeplabcut project, change working directory or else it is created in current directory. The output is the path to the config file. "
   ]
  },
  {
   "cell_type": "code",
   "execution_count": 5,
   "metadata": {},
   "outputs": [
    {
     "name": "stdout",
     "output_type": "stream",
     "text": [
      "Created \"F:\\MysoreData\\nbk\\TEST_50fps_mitg05_042120_cam1-spencer loggia-2020-04-24\\videos\"\n",
      "Created \"F:\\MysoreData\\nbk\\TEST_50fps_mitg05_042120_cam1-spencer loggia-2020-04-24\\labeled-data\"\n",
      "Created \"F:\\MysoreData\\nbk\\TEST_50fps_mitg05_042120_cam1-spencer loggia-2020-04-24\\training-datasets\"\n",
      "Created \"F:\\MysoreData\\nbk\\TEST_50fps_mitg05_042120_cam1-spencer loggia-2020-04-24\\dlc-models\"\n",
      "Copying the videos\n"
     ]
    },
    {
     "ename": "FileNotFoundError",
     "evalue": "[Errno 2] No such file or directory: 'mitg05-839--04212020093253.avi_clip_108.avi'",
     "output_type": "error",
     "traceback": [
      "\u001b[1;31m---------------------------------------------------------------------------\u001b[0m",
      "\u001b[1;31mFileNotFoundError\u001b[0m                         Traceback (most recent call last)",
      "\u001b[1;32m<ipython-input-5-bc6608e9c98c>\u001b[0m in \u001b[0;36m<module>\u001b[1;34m()\u001b[0m\n\u001b[1;32m----> 1\u001b[1;33m \u001b[0mpath_config_file\u001b[0m\u001b[1;33m=\u001b[0m\u001b[0mdeeplabcut\u001b[0m\u001b[1;33m.\u001b[0m\u001b[0mcreate_new_project\u001b[0m\u001b[1;33m(\u001b[0m\u001b[0mtask\u001b[0m\u001b[1;33m,\u001b[0m\u001b[0mexperimenter\u001b[0m\u001b[1;33m,\u001b[0m\u001b[0mvideo\u001b[0m\u001b[1;33m,\u001b[0m \u001b[0mworking_directory\u001b[0m\u001b[1;33m=\u001b[0m\u001b[1;34m'F:\\\\MysoreData\\\\nbk'\u001b[0m\u001b[1;33m,\u001b[0m \u001b[0mcopy_videos\u001b[0m\u001b[1;33m=\u001b[0m\u001b[1;32mTrue\u001b[0m\u001b[1;33m)\u001b[0m\u001b[1;33m\u001b[0m\u001b[1;33m\u001b[0m\u001b[0m\n\u001b[0m\u001b[0;32m      2\u001b[0m \u001b[0mprint\u001b[0m\u001b[1;33m(\u001b[0m\u001b[0mpath_config_file\u001b[0m\u001b[1;33m)\u001b[0m\u001b[1;33m\u001b[0m\u001b[1;33m\u001b[0m\u001b[0m\n",
      "\u001b[1;32mC:\\Users\\pbs-mysorelab\\.conda\\envs\\nbkGPU\\lib\\site-packages\\deeplabcut\\create_project\\new.py\u001b[0m in \u001b[0;36mcreate_new_project\u001b[1;34m(project, experimenter, videos, working_directory, copy_videos, videotype)\u001b[0m\n\u001b[0;32m    101\u001b[0m         \u001b[0mprint\u001b[0m\u001b[1;33m(\u001b[0m\u001b[1;34m\"Copying the videos\"\u001b[0m\u001b[1;33m)\u001b[0m\u001b[1;33m\u001b[0m\u001b[1;33m\u001b[0m\u001b[0m\n\u001b[0;32m    102\u001b[0m         \u001b[1;32mfor\u001b[0m \u001b[0msrc\u001b[0m\u001b[1;33m,\u001b[0m \u001b[0mdst\u001b[0m \u001b[1;32min\u001b[0m \u001b[0mzip\u001b[0m\u001b[1;33m(\u001b[0m\u001b[0mvideos\u001b[0m\u001b[1;33m,\u001b[0m \u001b[0mdestinations\u001b[0m\u001b[1;33m)\u001b[0m\u001b[1;33m:\u001b[0m\u001b[1;33m\u001b[0m\u001b[1;33m\u001b[0m\u001b[0m\n\u001b[1;32m--> 103\u001b[1;33m             \u001b[0mshutil\u001b[0m\u001b[1;33m.\u001b[0m\u001b[0mcopy\u001b[0m\u001b[1;33m(\u001b[0m\u001b[0mos\u001b[0m\u001b[1;33m.\u001b[0m\u001b[0mfspath\u001b[0m\u001b[1;33m(\u001b[0m\u001b[0msrc\u001b[0m\u001b[1;33m)\u001b[0m\u001b[1;33m,\u001b[0m\u001b[0mos\u001b[0m\u001b[1;33m.\u001b[0m\u001b[0mfspath\u001b[0m\u001b[1;33m(\u001b[0m\u001b[0mdst\u001b[0m\u001b[1;33m)\u001b[0m\u001b[1;33m)\u001b[0m \u001b[1;31m#https://www.python.org/dev/peps/pep-0519/\u001b[0m\u001b[1;33m\u001b[0m\u001b[1;33m\u001b[0m\u001b[0m\n\u001b[0m\u001b[0;32m    104\u001b[0m             \u001b[1;31m#https://github.com/AlexEMG/DeepLabCut/issues/105 (for windows)\u001b[0m\u001b[1;33m\u001b[0m\u001b[1;33m\u001b[0m\u001b[1;33m\u001b[0m\u001b[0m\n\u001b[0;32m    105\u001b[0m             \u001b[1;31m#try:\u001b[0m\u001b[1;33m\u001b[0m\u001b[1;33m\u001b[0m\u001b[1;33m\u001b[0m\u001b[0m\n",
      "\u001b[1;32mC:\\Users\\pbs-mysorelab\\.conda\\envs\\nbkGPU\\lib\\shutil.py\u001b[0m in \u001b[0;36mcopy\u001b[1;34m(src, dst, follow_symlinks)\u001b[0m\n\u001b[0;32m    243\u001b[0m     \u001b[1;32mif\u001b[0m \u001b[0mos\u001b[0m\u001b[1;33m.\u001b[0m\u001b[0mpath\u001b[0m\u001b[1;33m.\u001b[0m\u001b[0misdir\u001b[0m\u001b[1;33m(\u001b[0m\u001b[0mdst\u001b[0m\u001b[1;33m)\u001b[0m\u001b[1;33m:\u001b[0m\u001b[1;33m\u001b[0m\u001b[1;33m\u001b[0m\u001b[0m\n\u001b[0;32m    244\u001b[0m         \u001b[0mdst\u001b[0m \u001b[1;33m=\u001b[0m \u001b[0mos\u001b[0m\u001b[1;33m.\u001b[0m\u001b[0mpath\u001b[0m\u001b[1;33m.\u001b[0m\u001b[0mjoin\u001b[0m\u001b[1;33m(\u001b[0m\u001b[0mdst\u001b[0m\u001b[1;33m,\u001b[0m \u001b[0mos\u001b[0m\u001b[1;33m.\u001b[0m\u001b[0mpath\u001b[0m\u001b[1;33m.\u001b[0m\u001b[0mbasename\u001b[0m\u001b[1;33m(\u001b[0m\u001b[0msrc\u001b[0m\u001b[1;33m)\u001b[0m\u001b[1;33m)\u001b[0m\u001b[1;33m\u001b[0m\u001b[1;33m\u001b[0m\u001b[0m\n\u001b[1;32m--> 245\u001b[1;33m     \u001b[0mcopyfile\u001b[0m\u001b[1;33m(\u001b[0m\u001b[0msrc\u001b[0m\u001b[1;33m,\u001b[0m \u001b[0mdst\u001b[0m\u001b[1;33m,\u001b[0m \u001b[0mfollow_symlinks\u001b[0m\u001b[1;33m=\u001b[0m\u001b[0mfollow_symlinks\u001b[0m\u001b[1;33m)\u001b[0m\u001b[1;33m\u001b[0m\u001b[1;33m\u001b[0m\u001b[0m\n\u001b[0m\u001b[0;32m    246\u001b[0m     \u001b[0mcopymode\u001b[0m\u001b[1;33m(\u001b[0m\u001b[0msrc\u001b[0m\u001b[1;33m,\u001b[0m \u001b[0mdst\u001b[0m\u001b[1;33m,\u001b[0m \u001b[0mfollow_symlinks\u001b[0m\u001b[1;33m=\u001b[0m\u001b[0mfollow_symlinks\u001b[0m\u001b[1;33m)\u001b[0m\u001b[1;33m\u001b[0m\u001b[1;33m\u001b[0m\u001b[0m\n\u001b[0;32m    247\u001b[0m     \u001b[1;32mreturn\u001b[0m \u001b[0mdst\u001b[0m\u001b[1;33m\u001b[0m\u001b[1;33m\u001b[0m\u001b[0m\n",
      "\u001b[1;32mC:\\Users\\pbs-mysorelab\\.conda\\envs\\nbkGPU\\lib\\shutil.py\u001b[0m in \u001b[0;36mcopyfile\u001b[1;34m(src, dst, follow_symlinks)\u001b[0m\n\u001b[0;32m    118\u001b[0m         \u001b[0mos\u001b[0m\u001b[1;33m.\u001b[0m\u001b[0msymlink\u001b[0m\u001b[1;33m(\u001b[0m\u001b[0mos\u001b[0m\u001b[1;33m.\u001b[0m\u001b[0mreadlink\u001b[0m\u001b[1;33m(\u001b[0m\u001b[0msrc\u001b[0m\u001b[1;33m)\u001b[0m\u001b[1;33m,\u001b[0m \u001b[0mdst\u001b[0m\u001b[1;33m)\u001b[0m\u001b[1;33m\u001b[0m\u001b[1;33m\u001b[0m\u001b[0m\n\u001b[0;32m    119\u001b[0m     \u001b[1;32melse\u001b[0m\u001b[1;33m:\u001b[0m\u001b[1;33m\u001b[0m\u001b[1;33m\u001b[0m\u001b[0m\n\u001b[1;32m--> 120\u001b[1;33m         \u001b[1;32mwith\u001b[0m \u001b[0mopen\u001b[0m\u001b[1;33m(\u001b[0m\u001b[0msrc\u001b[0m\u001b[1;33m,\u001b[0m \u001b[1;34m'rb'\u001b[0m\u001b[1;33m)\u001b[0m \u001b[1;32mas\u001b[0m \u001b[0mfsrc\u001b[0m\u001b[1;33m:\u001b[0m\u001b[1;33m\u001b[0m\u001b[1;33m\u001b[0m\u001b[0m\n\u001b[0m\u001b[0;32m    121\u001b[0m             \u001b[1;32mwith\u001b[0m \u001b[0mopen\u001b[0m\u001b[1;33m(\u001b[0m\u001b[0mdst\u001b[0m\u001b[1;33m,\u001b[0m \u001b[1;34m'wb'\u001b[0m\u001b[1;33m)\u001b[0m \u001b[1;32mas\u001b[0m \u001b[0mfdst\u001b[0m\u001b[1;33m:\u001b[0m\u001b[1;33m\u001b[0m\u001b[1;33m\u001b[0m\u001b[0m\n\u001b[0;32m    122\u001b[0m                 \u001b[0mcopyfileobj\u001b[0m\u001b[1;33m(\u001b[0m\u001b[0mfsrc\u001b[0m\u001b[1;33m,\u001b[0m \u001b[0mfdst\u001b[0m\u001b[1;33m)\u001b[0m\u001b[1;33m\u001b[0m\u001b[1;33m\u001b[0m\u001b[0m\n",
      "\u001b[1;31mFileNotFoundError\u001b[0m: [Errno 2] No such file or directory: 'mitg05-839--04212020093253.avi_clip_108.avi'"
     ]
    }
   ],
   "source": [
    "path_config_file=deeplabcut.create_new_project(task,experimenter,video, working_directory='F:\\\\MysoreData\\\\nbk', copy_videos=True)\n",
    "print(path_config_file)"
   ]
  },
  {
   "cell_type": "markdown",
   "metadata": {},
   "source": [
    "At this point take a moment to edit the config.yaml file in the new project directory. Set the num2pick variable can be set to change number labeled frames per video. Also edit batch_size to change number of labelled images in each set. <br> \n",
    "\n",
    "<h1> Now we can extract frames!</h1><br>\n",
    "<p>This shows you one frame in the DLC gui from each video in your videos array. It asks you to crop the frame to the area you care about. DLC does not recommend croping to an images size greater than 600X800px <br>\n",
    "    Deep lab cut also now selects a number of frames equal to the num2pick configuiration from each video for labelling. These are subdevided into both the training and test sets.<p/>\n",
    "    \n",
    "                                   "
   ]
  },
  {
   "cell_type": "code",
   "execution_count": null,
   "metadata": {},
   "outputs": [],
   "source": [
    "#load matplotlib so outputs can be displayed \n",
    "%matplotlib inline \n",
    "\n",
    "deeplabcut.extract_frames(path_config_file,'automatic','uniform',crop=True)"
   ]
  },
  {
   "cell_type": "markdown",
   "metadata": {},
   "source": [
    "<h1> Now we label the test and training data! </h1> \n",
    "    \n",
    "Once the labelling gui opens, you may have to expand the bottom menu to make sure all buttons are visable.\n",
    "There will be a folder with the extracted frames for each video. Go into each and right click to place the current label. Skip a label by choosing the next one on the right hand menu."
   ]
  },
  {
   "cell_type": "code",
   "execution_count": null,
   "metadata": {},
   "outputs": [],
   "source": [
    "%gui wx\n",
    "%matplotlib inline \n",
    "deeplabcut.label_frames(path_config_file)"
   ]
  },
  {
   "cell_type": "markdown",
   "metadata": {},
   "source": [
    "The last step is just an automatic check of the labelled data. You should see no errors or something has gone wrong. "
   ]
  },
  {
   "cell_type": "code",
   "execution_count": null,
   "metadata": {},
   "outputs": [],
   "source": [
    "deeplabcut.check_labels(path_config_file) #this creates a subdirectory with the frames + your labels"
   ]
  },
  {
   "cell_type": "markdown",
   "metadata": {},
   "source": [
    "<h1> Next Steps: </h1>\n",
    "<h2> In order to actually train the network, we must use another notebook that runs in a docker container. This allows tensorflow to communicate properly with GPUs in windows </h2>\n",
    "run the below cell to get the path_config_file location, copy this path. Open the Docker_DLC_GPU notebook in this directory and set the path_config_file variable there to the same thing. "
   ]
  },
  {
   "cell_type": "code",
   "execution_count": null,
   "metadata": {},
   "outputs": [],
   "source": [
    "print(path_config_file)"
   ]
  }
 ],
 "metadata": {
  "kernelspec": {
   "display_name": "Python 3",
   "language": "python",
   "name": "python3"
  },
  "language_info": {
   "codemirror_mode": {
    "name": "ipython",
    "version": 3
   },
   "file_extension": ".py",
   "mimetype": "text/x-python",
   "name": "python",
   "nbconvert_exporter": "python",
   "pygments_lexer": "ipython3",
   "version": "3.6.9"
  }
 },
 "nbformat": 4,
 "nbformat_minor": 2
}
