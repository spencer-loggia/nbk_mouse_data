{
 "cells": [
  {
   "cell_type": "markdown",
   "metadata": {},
   "source": [
    "<h1> NOTEBOOK TO CREATE DLC PROJECT, EXTRACT FRAMES & LABEL DATA </h1>\n",
    "\n",
    "make sure you are running this notebook in properly setup conda enviroment. The nbkGPU enviroment set up on server 2 works properly. "
   ]
  },
  {
   "cell_type": "code",
   "execution_count": 1,
   "metadata": {},
   "outputs": [],
   "source": [
    "#Errors here mean there are issues with the enviroment dependencies or PATH configuration\n",
    "import deeplabcut\n",
    "import os\n",
    "task = 'TEST_50fps_mitg05_042120_cam1'\n",
    "experimenter = 'spencer loggia'"
   ]
  },
  {
   "cell_type": "markdown",
   "metadata": {},
   "source": [
    "Get all videos from the provided video source directory"
   ]
  },
  {
   "cell_type": "code",
   "execution_count": null,
   "metadata": {},
   "outputs": [],
   "source": [
    "NUM_VIDS_TO_LABEL = 10 #int less then number of videos\n",
    "VIDEO_SOURCE = 'F:\\\\MysoreData\\\\nbk\\\\mouse_videos\\\\mitg05\\\\04212020\\\\cam1\\\\clips'\n",
    "video_all = os.listdir(VIDEO_SOURCE)\n",
    "video = []\n",
    "for i in range(0,NUM_VIDS_TO_LABEL):\n",
    "    video.append(VIDEO_SOURCE + '\\\\' + video_all[i])\n",
    "    \n",
    "num_videos = len(video)\n",
    "print(video)"
   ]
  },
  {
   "cell_type": "markdown",
   "metadata": {},
   "source": [
    "Generate the deeplabcut project, change working directory or else it is created in current directory. The output is the path to the config file. "
   ]
  },
  {
   "cell_type": "code",
   "execution_count": null,
   "metadata": {},
   "outputs": [],
   "source": [
    "path_config_file=deeplabcut.create_new_project(task,experimenter,video, working_directory='F:\\\\MysoreData\\\\nbk', copy_videos=True)\n",
    "print(path_config_file)"
   ]
  },
  {
   "cell_type": "markdown",
   "metadata": {},
   "source": [
    "At this point take a moment to edit the config.yaml file in the new project directory. Set the num2pick variable can be set to change number labeled frames per video. Also edit batch_size to change number of labelled images in each set. <br> \n",
    "\n",
    "<h1> Now we can extract frames!</h1><br>\n",
    "<p>This shows you one frame in the DLC gui from each video in your videos array. It asks you to crop the frame to the area you care about. DLC does not recommend croping to an images size greater than 600X800px <br>\n",
    "    Deep lab cut also now selects a number of frames equal to the num2pick configuiration from each video for labelling. These are subdevided into both the training and test sets.<p/>\n",
    "    \n",
    "                                   "
   ]
  },
  {
   "cell_type": "code",
   "execution_count": null,
   "metadata": {},
   "outputs": [],
   "source": [
    "#load matplotlib so outputs can be displayed \n",
    "%matplotlib inline \n",
    "\n",
    "deeplabcut.extract_frames(path_config_file,'automatic','uniform',crop=True)"
   ]
  },
  {
   "cell_type": "markdown",
   "metadata": {},
   "source": [
    "<h1> Now we label the test and training data! </h1> \n",
    "    \n",
    "Once the labelling gui opens, you may have to expand the bottom menu to make sure all buttons are visable.\n",
    "There will be a folder with the extracted frames for each video. Go into each and right click to place the current label. Skip a label by choosing the next one on the right hand menu."
   ]
  },
  {
   "cell_type": "code",
   "execution_count": 2,
   "metadata": {},
   "outputs": [
    {
     "ename": "RuntimeError",
     "evalue": "wrapped C/C++ object of type DirDialog has been deleted",
     "output_type": "error",
     "traceback": [
      "\u001b[1;31m---------------------------------------------------------------------------\u001b[0m",
      "\u001b[1;31mRuntimeError\u001b[0m                              Traceback (most recent call last)",
      "\u001b[1;32mC:\\Users\\pbs-mysorelab\\.conda\\envs\\nbkGPU\\lib\\site-packages\\deeplabcut\\generate_training_dataset\\labeling_toolbox.py\u001b[0m in \u001b[0;36mquitButton\u001b[1;34m(self, event)\u001b[0m\n\u001b[0;32m    300\u001b[0m             \u001b[0mself\u001b[0m\u001b[1;33m.\u001b[0m\u001b[0mchoiceBox\u001b[0m\u001b[1;33m.\u001b[0m\u001b[0mClear\u001b[0m\u001b[1;33m(\u001b[0m\u001b[1;32mTrue\u001b[0m\u001b[1;33m)\u001b[0m\u001b[1;33m\u001b[0m\u001b[1;33m\u001b[0m\u001b[0m\n\u001b[0;32m    301\u001b[0m             \u001b[0mMainFrame\u001b[0m\u001b[1;33m.\u001b[0m\u001b[0mupdateZoomPan\u001b[0m\u001b[1;33m(\u001b[0m\u001b[0mself\u001b[0m\u001b[1;33m)\u001b[0m\u001b[1;33m\u001b[0m\u001b[1;33m\u001b[0m\u001b[0m\n\u001b[1;32m--> 302\u001b[1;33m             \u001b[0mMainFrame\u001b[0m\u001b[1;33m.\u001b[0m\u001b[0mbrowseDir\u001b[0m\u001b[1;33m(\u001b[0m\u001b[0mself\u001b[0m\u001b[1;33m,\u001b[0m \u001b[0mevent\u001b[0m\u001b[1;33m)\u001b[0m\u001b[1;33m\u001b[0m\u001b[1;33m\u001b[0m\u001b[0m\n\u001b[0m\u001b[0;32m    303\u001b[0m             \u001b[0mself\u001b[0m\u001b[1;33m.\u001b[0m\u001b[0msave\u001b[0m\u001b[1;33m.\u001b[0m\u001b[0mEnable\u001b[0m\u001b[1;33m(\u001b[0m\u001b[1;32mTrue\u001b[0m\u001b[1;33m)\u001b[0m\u001b[1;33m\u001b[0m\u001b[1;33m\u001b[0m\u001b[0m\n\u001b[0;32m    304\u001b[0m         \u001b[1;32melse\u001b[0m\u001b[1;33m:\u001b[0m\u001b[1;33m\u001b[0m\u001b[1;33m\u001b[0m\u001b[0m\n",
      "\u001b[1;32mC:\\Users\\pbs-mysorelab\\.conda\\envs\\nbkGPU\\lib\\site-packages\\deeplabcut\\generate_training_dataset\\labeling_toolbox.py\u001b[0m in \u001b[0;36mbrowseDir\u001b[1;34m(self, event)\u001b[0m\n\u001b[0;32m    417\u001b[0m             \u001b[0mdlg\u001b[0m\u001b[1;33m.\u001b[0m\u001b[0mDestroy\u001b[0m\u001b[1;33m(\u001b[0m\u001b[1;33m)\u001b[0m\u001b[1;33m\u001b[0m\u001b[1;33m\u001b[0m\u001b[0m\n\u001b[0;32m    418\u001b[0m             \u001b[0mself\u001b[0m\u001b[1;33m.\u001b[0m\u001b[0mClose\u001b[0m\u001b[1;33m(\u001b[0m\u001b[1;32mTrue\u001b[0m\u001b[1;33m)\u001b[0m\u001b[1;33m\u001b[0m\u001b[1;33m\u001b[0m\u001b[0m\n\u001b[1;32m--> 419\u001b[1;33m         \u001b[0mdlg\u001b[0m\u001b[1;33m.\u001b[0m\u001b[0mDestroy\u001b[0m\u001b[1;33m(\u001b[0m\u001b[1;33m)\u001b[0m\u001b[1;33m\u001b[0m\u001b[1;33m\u001b[0m\u001b[0m\n\u001b[0m\u001b[0;32m    420\u001b[0m \u001b[1;33m\u001b[0m\u001b[0m\n\u001b[0;32m    421\u001b[0m \u001b[1;31m# Enabling the zoom, pan and home buttons\u001b[0m\u001b[1;33m\u001b[0m\u001b[1;33m\u001b[0m\u001b[1;33m\u001b[0m\u001b[0m\n",
      "\u001b[1;31mRuntimeError\u001b[0m: wrapped C/C++ object of type DirDialog has been deleted"
     ]
    },
    {
     "name": "stderr",
     "output_type": "stream",
     "text": [
      "WARNING: Logging before flag parsing goes to stderr.\n",
      "E0424 13:20:47.481583 33500 ioloop.py:763] Exception in callback functools.partial(<function Kernel.enter_eventloop.<locals>.advance_eventloop at 0x0000026CA51AF400>)\n",
      "Traceback (most recent call last):\n",
      "  File \"C:\\Users\\pbs-mysorelab\\.conda\\envs\\nbkGPU\\lib\\site-packages\\tornado\\ioloop.py\", line 743, in _run_callback\n",
      "    ret = callback()\n",
      "  File \"C:\\Users\\pbs-mysorelab\\.conda\\envs\\nbkGPU\\lib\\site-packages\\ipykernel\\kernelbase.py\", line 314, in advance_eventloop\n",
      "    eventloop(self)\n",
      "TypeError: 'NoneType' object is not callable\n"
     ]
    }
   ],
   "source": [
    "path_config_file = 'F:\\\\MysoreData\\\\nbk\\\\TEST_50fps_mitg05_042120_cam1-spencer loggia-2020-04-24\\\\config.yaml'\n",
    "%gui wx\n",
    "%matplotlib inline \n",
    "deeplabcut.label_frames(path_config_file)"
   ]
  },
  {
   "cell_type": "markdown",
   "metadata": {},
   "source": [
    "The last step is just an automatic check of the labelled data. You should see no errors or something has gone wrong. "
   ]
  },
  {
   "cell_type": "code",
   "execution_count": 3,
   "metadata": {},
   "outputs": [
    {
     "name": "stdout",
     "output_type": "stream",
     "text": [
      "Creating images with labels by spencer loggia.\n",
      "They are stored in the following folder: F:\\MysoreData\\nbk\\TEST_50fps_mitg05_042120_cam1-spencer loggia-2020-04-24\\labeled-data\\mitg05-839--04212020093253.avi_clip_1_labeled.\n",
      "Attention: F:\\MysoreData\\nbk\\TEST_50fps_mitg05_042120_cam1-spencer loggia-2020-04-24\\labeled-data\\mitg05-839--04212020093253.avi_clip_10 does not appear to have labeled data!\n",
      "They are stored in the following folder: F:\\MysoreData\\nbk\\TEST_50fps_mitg05_042120_cam1-spencer loggia-2020-04-24\\labeled-data\\mitg05-839--04212020093253.avi_clip_100_labeled.\n",
      "They are stored in the following folder: F:\\MysoreData\\nbk\\TEST_50fps_mitg05_042120_cam1-spencer loggia-2020-04-24\\labeled-data\\mitg05-839--04212020093253.avi_clip_101_labeled.\n",
      "They are stored in the following folder: F:\\MysoreData\\nbk\\TEST_50fps_mitg05_042120_cam1-spencer loggia-2020-04-24\\labeled-data\\mitg05-839--04212020093253.avi_clip_102_labeled.\n",
      "They are stored in the following folder: F:\\MysoreData\\nbk\\TEST_50fps_mitg05_042120_cam1-spencer loggia-2020-04-24\\labeled-data\\mitg05-839--04212020093253.avi_clip_103_labeled.\n",
      "They are stored in the following folder: F:\\MysoreData\\nbk\\TEST_50fps_mitg05_042120_cam1-spencer loggia-2020-04-24\\labeled-data\\mitg05-839--04212020093253.avi_clip_104_labeled.\n",
      "They are stored in the following folder: F:\\MysoreData\\nbk\\TEST_50fps_mitg05_042120_cam1-spencer loggia-2020-04-24\\labeled-data\\mitg05-839--04212020093253.avi_clip_105_labeled.\n",
      "They are stored in the following folder: F:\\MysoreData\\nbk\\TEST_50fps_mitg05_042120_cam1-spencer loggia-2020-04-24\\labeled-data\\mitg05-839--04212020093253.avi_clip_106_labeled.\n",
      "They are stored in the following folder: F:\\MysoreData\\nbk\\TEST_50fps_mitg05_042120_cam1-spencer loggia-2020-04-24\\labeled-data\\mitg05-839--04212020093253.avi_clip_107_labeled.\n",
      "If all the labels are ok, then use the function 'create_training_dataset' to create the training dataset!\n"
     ]
    }
   ],
   "source": [
    "deeplabcut.check_labels(path_config_file) #this creates a subdirectory with the frames + your labels"
   ]
  },
  {
   "cell_type": "markdown",
   "metadata": {},
   "source": [
    "<h1> Next Steps: </h1>\n",
    "<h2> In order to actually train the network, we must use another notebook that runs in a docker container. This allows tensorflow to communicate properly with GPUs in windows </h2>\n",
    "run the below cell to get the path_config_file location, copy this path. Open the Docker_DLC_GPU notebook in this directory and set the path_config_file variable there to the same thing. "
   ]
  },
  {
   "cell_type": "code",
   "execution_count": 4,
   "metadata": {},
   "outputs": [
    {
     "name": "stdout",
     "output_type": "stream",
     "text": [
      "F:\\MysoreData\\nbk\\TEST_50fps_mitg05_042120_cam1-spencer loggia-2020-04-24\\config.yaml\n"
     ]
    }
   ],
   "source": [
    "print(path_config_file)"
   ]
  },
  {
   "cell_type": "code",
   "execution_count": null,
   "metadata": {},
   "outputs": [],
   "source": []
  }
 ],
 "metadata": {
  "kernelspec": {
   "display_name": "Python 3",
   "language": "python",
   "name": "python3"
  },
  "language_info": {
   "codemirror_mode": {
    "name": "ipython",
    "version": 3
   },
   "file_extension": ".py",
   "mimetype": "text/x-python",
   "name": "python",
   "nbconvert_exporter": "python",
   "pygments_lexer": "ipython3",
   "version": "3.6.9"
  }
 },
 "nbformat": 4,
 "nbformat_minor": 2
}
